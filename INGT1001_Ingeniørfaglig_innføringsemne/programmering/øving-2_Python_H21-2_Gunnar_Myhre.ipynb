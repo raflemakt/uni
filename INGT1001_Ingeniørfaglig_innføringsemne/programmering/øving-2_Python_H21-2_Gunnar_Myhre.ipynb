{
 "cells": [
  {
   "cell_type": "markdown",
   "metadata": {
    "tags": []
   },
   "source": [
    "# Øving 2  -   INGT1001 Elektro: Python-modulen #\n",
    "> ### Frist: søndag 26/9, kl. 23.59\n",
    "> ### Levering: på vår underside (https://ntnu.blackboard.com/webapps/blackboard/execute/modulepage/view?course_id=_32669_1&cmp_tab_id=_252410_1&editMode=true&mode=cpview#) på Blackboard under folderen Arbeidskrav\n",
    "> __Godkjenningskrav:__  _P3.17-19 og P3.48-49 må være gjort + minst 50% av de øvrige deloppgavene_"
   ]
  },
  {
   "cell_type": "markdown",
   "metadata": {},
   "source": [
    "### Fra Chapter 3, Python for Everyone ###\n",
    "> __Programming Execises: P3.1-6, P3.11, P3.17-19, P3.21, P3.48-49__<br>\n",
    "\n",
    "\n"
   ]
  },
  {
   "cell_type": "code",
   "execution_count": 13,
   "metadata": {},
   "outputs": [
    {
     "name": "stdout",
     "output_type": "stream",
     "text": [
      "Number 42 is positive\n",
      "Number -42 is negative\n",
      "Number 0 is zero\n"
     ]
    }
   ],
   "source": [
    "#\n",
    "#    Besvarelse P3.1\n",
    "#\n",
    "#  Printer signum til heiltal\n",
    "\n",
    "def print_sign_of_int(number):\n",
    "    if number > 0:\n",
    "        print(f\"Number {str(number)} is positive\")\n",
    "    if number < 0:\n",
    "        print(f\"Number {str(number)} is negative\")\n",
    "    if number == 0:\n",
    "        print(f\"Number {str(number)} is zero\")\n",
    "\n",
    "\n",
    "# eks.:\n",
    "print_sign_of_int(42)\n",
    "print_sign_of_int(-42)\n",
    "print_sign_of_int(0)"
   ]
  },
  {
   "cell_type": "code",
   "execution_count": 30,
   "metadata": {},
   "outputs": [
    {
     "name": "stdout",
     "output_type": "stream",
     "text": [
      "0 --> Null\n",
      "0.0 --> Null\n",
      "-1000003.2 --> Stor Negativ\n",
      "-843 --> Negativ\n",
      "1.3e-05 --> Liten Positiv\n"
     ]
    }
   ],
   "source": [
    "#\n",
    "#    Besvarelse P3.2\n",
    "#\n",
    "#  Printer størrelse til flyttal\n",
    "\n",
    "def print_size_of_float(f):\n",
    "    is_pos = lambda x: x > 0\n",
    "    text = \"\"\n",
    "    \n",
    "    if int(f) == f:\n",
    "        if f == 0:\n",
    "            print(f\"{str(f)} --> Null\")\n",
    "            return 0\n",
    "    if abs(f) > 1_000_000:\n",
    "        text += \"Stor \"\n",
    "    if abs(f) < 1:\n",
    "        text += \"Liten \"\n",
    "    if is_pos(f):\n",
    "        text += \"Positiv\"\n",
    "    else:\n",
    "        text += \"Negativ\"\n",
    "    print(str(f) + \" --> \" + text)\n",
    "\n",
    "    \n",
    "# eks.:\n",
    "print_size_of_float(0)\n",
    "print_size_of_float(0.000)\n",
    "print_size_of_float(-1_000_003.2)\n",
    "print_size_of_float(-843)\n",
    "print_size_of_float(0.000013)"
   ]
  },
  {
   "cell_type": "code",
   "execution_count": 43,
   "metadata": {},
   "outputs": [
    {
     "name": "stdout",
     "output_type": "stream",
     "text": [
      "1\n",
      "7\n",
      "22\n",
      "4\n",
      "\n",
      "\n",
      "1\n",
      "7\n",
      "exceeded ten billion\n",
      "4\n"
     ]
    }
   ],
   "source": [
    "#\n",
    "#    Besvarelse P3.3\n",
    "#\n",
    "#  Printer antal siffer i heiltal\n",
    "\n",
    "def print_digits(integer):\n",
    "    print(len(str(integer)))\n",
    "\n",
    "    \n",
    "def print_digits_2(integer):\n",
    "    # Løysning som følger oppgåveteksten\n",
    "    if integer < 0:\n",
    "        integer *= -1\n",
    "    for n in range(1, 12):\n",
    "        if integer < 10**n:\n",
    "            print(n)\n",
    "            return\n",
    "    print(\"exceeded ten billion\")\n",
    "\n",
    "    \n",
    "# eks.:\n",
    "print_digits(1)\n",
    "print_digits(1000000)\n",
    "print_digits(1000000000000000000000)\n",
    "print_digits(1000)\n",
    "\n",
    "print(\"\\n\")\n",
    "print_digits_2(1)\n",
    "print_digits_2(1000000)\n",
    "print_digits_2(1000000000000000000000)\n",
    "print_digits_2(1000)"
   ]
  },
  {
   "cell_type": "code",
   "execution_count": 46,
   "metadata": {},
   "outputs": [
    {
     "name": "stdout",
     "output_type": "stream",
     "text": [
      "all the same\n",
      "all different\n",
      "neither\n"
     ]
    }
   ],
   "source": [
    "#\n",
    "#    Besvarelse P3.4\n",
    "#\n",
    "#  Sjekker om tri tal er like\n",
    "\n",
    "def are_numbers_equal(a, b, c):\n",
    "    if a == b == c:\n",
    "        return \"all the same\"\n",
    "    if a != b != c:\n",
    "        return \"all different\"\n",
    "    else:\n",
    "        return \"neither\"\n",
    "    \n",
    "\n",
    "print(are_numbers_equal(1,1,1))\n",
    "print(are_numbers_equal(2,4,1))\n",
    "print(are_numbers_equal(2,4,4))\n"
   ]
  },
  {
   "cell_type": "code",
   "execution_count": 125,
   "metadata": {},
   "outputs": [
    {
     "name": "stdout",
     "output_type": "stream",
     "text": [
      "1, 2, 3 are strictly increasing\n",
      "3, 2, -1332 are strictly decreasing\n",
      "neither\n"
     ]
    }
   ],
   "source": [
    "#\n",
    "#    Besvarelse P3.5\n",
    "#\n",
    "#  Sjekker om tri tal er i strengt stigande eller synkande rekkefølgje\n",
    "\n",
    "def is_strictly_increasing(a, b, c):\n",
    "    if a > b > c:\n",
    "        print(f\"{str(a)}, {str(b)}, {str(c)} are strictly decreasing\")\n",
    "    elif a < b < c:\n",
    "        print(f\"{str(a)}, {str(b)}, {str(c)} are strictly increasing\")\n",
    "    else:\n",
    "        print(\"neither\")\n",
    "\n",
    "        \n",
    "is_strictly_increasing(1,2,3)\n",
    "is_strictly_increasing(3,2,-1332)\n",
    "is_strictly_increasing(1,2,2)"
   ]
  },
  {
   "cell_type": "code",
   "execution_count": 71,
   "metadata": {},
   "outputs": [
    {
     "name": "stdout",
     "output_type": "stream",
     "text": [
      "Use strict mode? [y/n]n\n",
      "Choose own numbers? [y/n]n\n",
      "[1, 3, 5]\n",
      "increasing\n",
      "[2, 2, 2]\n",
      "numbers are equal\n",
      "[3, 2, 1]\n",
      "decreasing\n",
      "[1, 9, 0]\n",
      "neither\n"
     ]
    }
   ],
   "source": [
    "#\n",
    "#    Besvarelse P3.6\n",
    "#\n",
    "#  Sjekker om tri tal er i strengt stigande eller synkande rekkefølgje\n",
    "#  dersom brukaren ber om det\n",
    "\n",
    "DEFAULT_NUMS = [[1, 3, 5],\n",
    "                [2, 2, 2],\n",
    "                [3, 2, 1],\n",
    "                [1, 9, 0]]\n",
    "\n",
    "\n",
    "def growth_direction(numbers, strict):\n",
    "    a, b, c = numbers\n",
    "    if not strict:\n",
    "        if a == b == c:\n",
    "            return \"numbers are equal\"\n",
    "        return \"decreasing\" if (a > b > c) else \"increasing\" if (a < b < c) else \"neither\"\n",
    "    return \"decreasing\" if (a >= b >= c) else \"increasing\" if (a <= b <= c) else \"neither\"\n",
    "\n",
    "\n",
    "def get_input(prompt=\"\", cast=None, condition=None, error_message=None):\n",
    "    # Tar med get_input() frå forrige øving. Den fungerer som ein input()-funksjon\n",
    "    # men gjer også validering av input ift. \"cast\" og \"condition\"\n",
    "    # Fordelen med dette er at programmet ikkje kræsjer dersom brukaren skriver\n",
    "    # ugyldig input.\n",
    "    #\n",
    "    #   cast      --> forsøker å typecaste input som f.eks. int, str, float\n",
    "    #   condition --> boolean som uttrykt i ein lambda-funksjon med input som arg.\n",
    "    \n",
    "    # Dersom cast feiler eller condition=False printast error_message og\n",
    "    # brukaren bedast prøve på nytt\n",
    "    \n",
    "    while True:\n",
    "        try:\n",
    "            # bruker funksjonen som nemnt i \"cast\", eller default str()\n",
    "            response = (cast or str)(input(prompt))\n",
    "            \n",
    "            # dersom condition eksisterer, sjå om den er True\n",
    "            assert condition is None or condition(response)\n",
    "            return response\n",
    "        except:\n",
    "            # printer error_message eller default-melding\n",
    "            print(error_message or \"Invalid input, try again.\")\n",
    "\n",
    "            \n",
    "def main():\n",
    "    strict = False\n",
    "    if get_input(\"Use strict mode? [y/n]\", cast=str) == \"y\":\n",
    "        strict = True\n",
    "    \n",
    "    choose = get_input(\"Choose own numbers? [y/n]\", cast=str)\n",
    "    if choose.lower() == \"y\":\n",
    "        nums = []\n",
    "        for i in range(1,4):\n",
    "            nums.append(get_input(f\"Num {str(i)}: \", cast=float))\n",
    "        print(growth_direction(nums, (strict or False)))\n",
    "            \n",
    "    if choose.lower() == \"n\":\n",
    "        nums = DEFAULT_NUMS\n",
    "        for triplet in nums:\n",
    "            print(triplet)\n",
    "            print(growth_direction(triplet, strict))\n",
    "\n",
    "            \n",
    "if __name__ == \"__main__\":\n",
    "    main()"
   ]
  },
  {
   "cell_type": "code",
   "execution_count": 88,
   "metadata": {},
   "outputs": [
    {
     "name": "stdout",
     "output_type": "stream",
     "text": [
      "State of matter calculator for water. Please choose units: \n",
      "[F]ahrenheit or [C]elsius? (default: celcius): c\n",
      "[F]eet or [M]eter? (default: meter): GRRRRR\n",
      "Temperature, celcius: GRRR\n",
      "Invalid input, try again.\n",
      "Temperature, celcius: 74\n",
      "Altitude, meters: 180.3,4\n",
      "Invalid input, try again.\n",
      "Altitude, meters: 180.2\n",
      "Water is liquid at the given parameters\n"
     ]
    }
   ],
   "source": [
    "#\n",
    "#    Besvarelse P3.11\n",
    "#\n",
    "#  Spør brukaren om vanntemperatur i °C eller °F\n",
    "#  og høgde over havet i meter eller fot, med\n",
    "#  input-validering, og print agregattilstand til vannet\n",
    "\n",
    "def matter_state(temp, altitude=0, celcius=True, meter=True):\n",
    "    if not celcius:\n",
    "        temp = (temp - 32) / 1.8\n",
    "    if not meter:\n",
    "        altitude *= 0.3048\n",
    "        \n",
    "    boiling_point = 100 - (altitude / 300)\n",
    "    return \"solid\" if temp <= 0 else \"liquid\" if temp < boiling_point else \"gaseous\"\n",
    "\n",
    "\n",
    "def get_input(prompt=\"\", cast=None, condition=None, error_message=None):\n",
    "    while True:\n",
    "        try:\n",
    "            response = (cast or str)(input(prompt))\n",
    "            assert condition is None or condition(response)\n",
    "            return response\n",
    "        except:\n",
    "            print(error_message or \"Invalid input, try again.\")\n",
    "            \n",
    "\n",
    "def main():\n",
    "    print(\"State of matter calculator for water. Please choose units: \")\n",
    "    \n",
    "    celcius, meter = True, True\n",
    "    if input(\"[F]ahrenheit or [C]elsius? (default: celcius): \").lower()[:1] == \"f\":\n",
    "        celcius = False\n",
    "    if input(\"[F]eet or [M]eter? (default: meter): \").lower()[:1] == \"f\":\n",
    "        meter = False\n",
    "        \n",
    "    temp = get_input(prompt=f'Temperature, {\"celcius\" if celcius else \"fahrenheit\"}: ',\n",
    "                     cast=float)\n",
    "    alt = get_input(prompt=f'Altitude, {\"meters\" if meter else \"feet\"}: ',\n",
    "                    cast=float)\n",
    "    \n",
    "    state = matter_state(temp, alt, celcius, meter)\n",
    "    print(\"Water is \" + state + \" at the given parameters\")\n",
    "   \n",
    "\n",
    "if __name__ == \"__main__\":\n",
    "    main()"
   ]
  },
  {
   "cell_type": "code",
   "execution_count": 124,
   "metadata": {
    "scrolled": true
   },
   "outputs": [
    {
     "name": "stdout",
     "output_type": "stream",
     "text": [
      "The string Hello. ...\n",
      "Does not only contain letters\n",
      "Does not only contain uppercase letters\n",
      "Does not only contain lowercase letters\n",
      "Does not only contain digits\n",
      "Does only contain ASCII characters\n",
      "Does start with an uppercase letter\n",
      "Does end with a period \n",
      "\n",
      "The string WORLD ...\n",
      "Does only contain letters\n",
      "Does only contain uppercase letters\n",
      "Does not only contain lowercase letters\n",
      "Does not only contain digits\n",
      "Does only contain ASCII characters\n",
      "Does start with an uppercase letter\n",
      "Does not end with a period \n",
      "\n"
     ]
    }
   ],
   "source": [
    "#\n",
    "#    Besvarelse P3.17\n",
    "#\n",
    "#  Bruker innebygde metodar i streng-klassa for å printe\n",
    "#  informasjon om ein streng\n",
    "\n",
    "def check_string(s):\n",
    "    cond = lambda b: \"\" if b else \"not \"\n",
    "    print(f'The string {s} ...')\n",
    "    print(f'Does {cond(s.isalpha())}only contain letters')\n",
    "    print(f'Does {cond(s.isalpha() and s.upper() == s)}only contain uppercase letters')\n",
    "    print(f'Does {cond(s.isalpha() and s.lower() == s)}only contain lowercase letters')\n",
    "    print(f'Does {cond(s.isdigit())}only contain digits')\n",
    "    print(f'Does {cond(s.isascii())}only contain ASCII characters')\n",
    "    print(f'Does {cond(s[:1].istitle())}start with an uppercase letter')\n",
    "    print(f'Does {cond(s[-1:] == \".\")}end with a period \\n')\n",
    "    \n",
    "    \n",
    "check_string(\"Hello.\")\n",
    "check_string(\"WORLD\")"
   ]
  },
  {
   "cell_type": "code",
   "execution_count": 3,
   "metadata": {},
   "outputs": [
    {
     "name": "stdout",
     "output_type": "stream",
     "text": [
      "Time 1: 9823\n",
      "Invalid input, try again.\n",
      "Time 1: 23487123\n",
      "Invalid input, try again.\n",
      "Time 1: oqiwe\n",
      "Invalid input, try again.\n",
      "Time 1: 0932\n",
      "Time 2: 2317\n",
      "Times: 0932 and 2317\n",
      "Time 1 comes first\n"
     ]
    }
   ],
   "source": [
    "#\n",
    "#    Besvarelse P3.18\n",
    "#\n",
    "#  Tar inn to klokkeslett i militærtid (eks. 2359),\n",
    "#  validerer input og printer kva for klokkeslett som kjem først\n",
    "       \n",
    "def unpack_military_time_string(t):\n",
    "    # Tar inn streng med maks 4 siffer og returnerer talverdi\n",
    "    # for time og minutt, samt ein firesifra streng med klokkeslettet\n",
    "    text = t.rjust(4, \"0\")\n",
    "    hour = int(t[:2])\n",
    "    minute = int(t[2:])\n",
    "    return hour, minute, text\n",
    "            \n",
    "        \n",
    "def is_military_time(t):\n",
    "    # Sjekker om ein streng med maks 4 siffer er eit gyldig klokkeslett\n",
    "    str(t).rjust(4, \"0\")\n",
    "    if int(t[:2]) > 24:   # timar kan ikkje overskride 23\n",
    "        return False\n",
    "    if int(t[2:]) > 60:   # minutt kan ikkje overskride 59\n",
    "        return False\n",
    "    return True\n",
    "\n",
    "\n",
    "def get_input(prompt=\"\", cast=None, condition=None, error_message=None):\n",
    "    while True:\n",
    "        try:\n",
    "            response = (cast or str)(input(prompt))\n",
    "            assert condition is None or condition(response)\n",
    "            return response\n",
    "        except:\n",
    "            print(error_message or \"Invalid input, try again.\")\n",
    "    \n",
    "    \n",
    "# validerer input vha. get_input() som fordrer at inputet kan omgjerast til type str\n",
    "# og at det er eit gyldig klokkeslett som vist med is_military_time()\n",
    "t1 = get_input(prompt=\"Time 1: \", cast=str, condition=lambda t: is_military_time(t))\n",
    "t2 = get_input(prompt=\"Time 2: \", cast=str, condition=lambda t: is_military_time(t))\n",
    "t1_h, t1_m, t1_text = unpack_military_time_string(t1)\n",
    "t2_h, t2_m, t2_text = unpack_military_time_string(t2)\n",
    "\n",
    "\n",
    "# Følger flytskjema frå oppgåveteksten\n",
    "print(\"Times: \" + t1_text + \" and \" + t2_text)\n",
    "if t1_h < t2_h:\n",
    "    print(\"Time 1 comes first\")\n",
    "elif t1_h == t2_h:\n",
    "    if t1_m < t2_m:\n",
    "        print(\"Time 1 comes first\")\n",
    "    elif t1_m == t2_m:\n",
    "        print(\"Time 1 and Time 2 are the same\")\n",
    "    else:\n",
    "        print(\"Time 2 comes first\")\n",
    "else:\n",
    "    print(\"Time 2 comes first\")"
   ]
  },
  {
   "cell_type": "code",
   "execution_count": 10,
   "metadata": {},
   "outputs": [
    {
     "name": "stdout",
     "output_type": "stream",
     "text": [
      "Input a letter: 9\n",
      "Must be one character A-Å or a-å.\n",
      "Input a letter: strykejern\n",
      "Must be one character A-Å or a-å.\n",
      "Input a letter: Æ\n",
      "Æ: capital vowel \n"
     ]
    }
   ],
   "source": [
    "#\n",
    "#    Besvarelse P3.19\n",
    "#\n",
    "#  Spør brukaren om å skrive ein bokstav, og\n",
    "#  printer deretter informasjon om bokstaven\n",
    "\n",
    "VOWELS = [\"a\", \"e\", \"i\", \"o\", \"u\", \"y\", \"æ\", \"ø\", \"å\"]\n",
    "\n",
    "\n",
    "def get_input(prompt=\"\", cast=None, condition=None, error_message=None):\n",
    "    while True:\n",
    "        try:\n",
    "            response = (cast or str)(input(prompt))\n",
    "            assert condition is None or condition(response)\n",
    "            return response\n",
    "        except:\n",
    "            print(error_message or \"Invalid input, try again.\")\n",
    "\n",
    "\n",
    "char = get_input(prompt=\"Input a letter: \",\n",
    "                 cast=str,\n",
    "                 condition=lambda c: (len(c)==1) and (c.isalpha()),\n",
    "                 error_message=\"Must be one character A-Å or a-å.\")\n",
    "\n",
    "print_string = char + \": \"\n",
    "if char.istitle():\n",
    "    print_string += \"capital \"\n",
    "if char.lower() in VOWELS:\n",
    "    print_string += \"vowel \"\n",
    "else:\n",
    "    print_string += \"consonant\"\n",
    "print(print_string)"
   ]
  },
  {
   "cell_type": "code",
   "execution_count": 14,
   "metadata": {},
   "outputs": [
    {
     "name": "stdout",
     "output_type": "stream",
     "text": [
      "Float 1: 9.321\n",
      "Float 2: 9.365\n",
      "Numbers are different\n"
     ]
    }
   ],
   "source": [
    "#\n",
    "#    Besvarelse P3.21\n",
    "#\n",
    "#  Sjekker om to flyttal er like for opp til to desimaler bak komma\n",
    "\n",
    "f1 = float(input(\"Float 1: \"))\n",
    "f2 = float(input(\"Float 2: \"))\n",
    "\n",
    "if round(f1, 2) == round(f2, 2):\n",
    "    print(\"Numbers are the same up to two decimal places.\")\n",
    "else:\n",
    "    print(\"Numbers are different\")"
   ]
  },
  {
   "cell_type": "code",
   "execution_count": 1,
   "metadata": {},
   "outputs": [
    {
     "name": "stdout",
     "output_type": "stream",
     "text": [
      "Calculate gas temperature from voltage. Valid range is 12V--18V\n",
      "Specify voltage [volts]: awdliuahwd123\n",
      "Invalid input, try again.\n",
      "Specify voltage [volts]: 13.843\n",
      "Gas temperature: 137.25 °C\n"
     ]
    }
   ],
   "source": [
    "#\n",
    "#    Besvarelse P3.48\n",
    "#\n",
    "#  Finner gasstemperatur ut ifrå spenning\n",
    "\n",
    "R_0 = 100    # Ω\n",
    "R_S = 75     # Ω\n",
    "V_S = 20     # V\n",
    "K = 0.5      # koeffisient\n",
    "\n",
    "\n",
    "def gas_temp_from_voltage(vm):\n",
    "    t = (R_S / K) * (vm / (V_S - vm)) - (R_0 / K)\n",
    "    return t\n",
    "\n",
    "\n",
    "def get_input(prompt=\"\", cast=None, condition=None, error_message=None):\n",
    "    while True:\n",
    "        try:\n",
    "            response = (cast or str)(input(prompt))\n",
    "            assert condition is None or condition(response)\n",
    "            return response\n",
    "        except:\n",
    "            print(error_message or \"Invalid input, try again.\")\n",
    "            \n",
    "    \n",
    "def main():\n",
    "    print(\"Calculate gas temperature from voltage. Valid range is 12V--18V\")\n",
    "    v = get_input(prompt=\"Specify voltage [volts]: \",\n",
    "                  cast=float,\n",
    "                  condition=lambda x: (12 <= x <= 18))\n",
    "    temp = round(gas_temp_from_voltage(v), 2)\n",
    "    print(\"Gas temperature: \" + str(temp) + \" °C\")\n",
    "\n",
    "\n",
    "if __name__ == \"__main__\":\n",
    "    main()"
   ]
  },
  {
   "cell_type": "code",
   "execution_count": 143,
   "metadata": {},
   "outputs": [
    {
     "name": "stdout",
     "output_type": "stream",
     "text": [
      "Input temperature in Fahrenheit: 31\n",
      "R is: 160211.52 Ω\n",
      "ALARM!\n"
     ]
    }
   ],
   "source": [
    "#\n",
    "#    Besvarelse P3.49\n",
    "#\n",
    "#  Spør brukaren om temperatur i °F og seier om dette er under\n",
    "#  frysepunktet, som modellert i ein termistorkrets\n",
    "\n",
    "from math import e\n",
    "import numpy as np\n",
    "\n",
    "\n",
    "BETA = 3310               # °K\n",
    "T_0 = 40                  # °C\n",
    "R_0 = 33_192              # Ω\n",
    "R_2 = R_3 = R_4 = 156_300 # Ω\n",
    "\n",
    "\n",
    "def fahrenheit_to_celcius(temp):\n",
    "    return (temp - 32) / 1.8\n",
    "\n",
    "\n",
    "def thermistor_res_from_temp(temp_c):\n",
    "    temp_k = temp_c + 273\n",
    "    t0_k = T_0 + 273\n",
    "    if round(temp, 1) == 0.0:   # når temp --> 0 går r --> inf. Derfor stopper\n",
    "        return np.inf           # vi utrekninga før det oppstår overflyt.\n",
    "    \n",
    "    exponent = BETA * ((1/temp_k) - (1/t0_k))\n",
    "    r = R_0 * np.float_power(e, exponent)\n",
    "    return r\n",
    "\n",
    "\n",
    "def in_alarm_range(r):\n",
    "    # returnerer True dersom alarmen skal gå av\n",
    "    return (R_2/(r + R_2)) < (R_4/(R_3 + R_4))\n",
    "\n",
    "\n",
    "def main():\n",
    "    temp = float(input(\"Input temperature in Fahrenheit: \"))\n",
    "    temp = fahrenheit_to_celcius(temp)\n",
    "    res = thermistor_res_from_temp(temp)\n",
    "    print(f\"R is: {str(round(res, 2))} Ω\")\n",
    "    \n",
    "    if in_alarm_range(res):\n",
    "        print(\"ALARM!\")\n",
    "    else:\n",
    "        print(\"Temperature nominal\")\n",
    "        \n",
    "\n",
    "if __name__ == \"__main__\":\n",
    "    main()"
   ]
  }
 ],
 "metadata": {
  "kernelspec": {
   "display_name": "Python 3 (ipykernel)",
   "language": "python",
   "name": "python3"
  },
  "language_info": {
   "codemirror_mode": {
    "name": "ipython",
    "version": 3
   },
   "file_extension": ".py",
   "mimetype": "text/x-python",
   "name": "python",
   "nbconvert_exporter": "python",
   "pygments_lexer": "ipython3",
   "version": "3.9.6"
  }
 },
 "nbformat": 4,
 "nbformat_minor": 4
}
