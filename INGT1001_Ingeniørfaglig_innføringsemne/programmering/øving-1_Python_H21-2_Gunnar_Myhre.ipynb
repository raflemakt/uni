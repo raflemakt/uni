{
 "cells": [
  {
   "cell_type": "markdown",
   "metadata": {
    "tags": []
   },
   "source": [
    "# Øving 1  -   INGT1001 Elektro: Python-modulen #\n",
    "> ### Frist: søndag 19/9, kl. 23.59\n",
    "> ### Levering: på vår underside (organisasjon) på Blackboard under folderen Arbeidskrav\n",
    "> __Godkjenningskrav:__  _P2.38-P2.43 må være gjort + minst 50% av de øvrige deloppgavene_"
   ]
  },
  {
   "cell_type": "markdown",
   "metadata": {},
   "source": [
    "### Fra Chapter 1, Python for Everyone ###\n",
    "> __Programming Execises: P1.2 - P1.5, P1.16__<br>\n",
    "\n",
    "### Fra Chapter 2, Python for Everyone ###\n",
    ">__Programming Execises: P2.4, P2.17, P2.19, P2.22, P2.32, P2.34, P2.38 - P2.43__ <br>\n",
    "\n",
    "_Nedenfor ser du besvarelsen på P1.1 som et eksempel på hvordan de skal se ut.\n",
    "Dvs. opprett en kodecelle, kommenter på toppen hvilken deloppgave det dreier seg om, og så kommer kodelinjene. Sørg for å legg inn greit med kommentarer i koden også._\n",
    "### ###\n"
   ]
  },
  {
   "cell_type": "code",
   "execution_count": 1,
   "metadata": {},
   "outputs": [
    {
     "name": "stdout",
     "output_type": "stream",
     "text": [
      "Bonjour!\n"
     ]
    }
   ],
   "source": [
    "#\n",
    "#    Besvarelse P1.1\n",
    "#\n",
    "#  Print Hello på fransk\n",
    "\n",
    "print(\"Bonjour!\")\n"
   ]
  },
  {
   "cell_type": "code",
   "execution_count": 20,
   "metadata": {},
   "outputs": [
    {
     "name": "stdout",
     "output_type": "stream",
     "text": [
      "Summen av dei 10 første positive heiltala er 55\n"
     ]
    }
   ],
   "source": [
    "#\n",
    "#    Besvarelse P1.2\n",
    "#\n",
    "#  Printer summen av de 10 første positive heltall\n",
    "\n",
    "n = 10\n",
    "print(f\"Summen av dei {str(n)} første positive heiltala er {sum(range(n + 1))}\")"
   ]
  },
  {
   "cell_type": "code",
   "execution_count": 19,
   "metadata": {},
   "outputs": [
    {
     "name": "stdout",
     "output_type": "stream",
     "text": [
      "Summen av dei 10 første positive heiltala er 3628800\n"
     ]
    }
   ],
   "source": [
    "#\n",
    "#    Besvarelse P1.3\n",
    "#\n",
    "#  Printer produktet av dei første 10 heiltala\n",
    "\n",
    "from math import prod\n",
    "\n",
    "n = 10\n",
    "integer_list = [*range(1, n+1)]   # unpack-operator * omgjer range-objektet til heiltal\n",
    "\n",
    "print(f\"Summen av dei {str(n)} første positive heiltala er {prod(integer_list)}\")\n",
    "    "
   ]
  },
  {
   "cell_type": "code",
   "execution_count": 51,
   "metadata": {},
   "outputs": [
    {
     "name": "stdout",
     "output_type": "stream",
     "text": [
      "Balance after 1 years is 1050.0\n",
      "Balance after 2 years is 1102.5\n",
      "Balance after 3 years is 1157.625\n"
     ]
    },
    {
     "data": {
      "text/plain": [
       "1157.625"
      ]
     },
     "execution_count": 51,
     "metadata": {},
     "output_type": "execute_result"
    }
   ],
   "source": [
    "#\n",
    "#    Besvarelse P1.4\n",
    "#\n",
    "#  Rekner ut balansen på ein konto med 5% rente\n",
    "\n",
    "def interest_after_years(initial_balance, interest_rate, years):\n",
    "    balance = initial_balance\n",
    "    for year in range(1, years+1):\n",
    "        balance *= interest_rate\n",
    "        print(f\"Balance after {str(year)} years is {str(balance)}\")\n",
    "    return balance\n",
    "\n",
    "interest_after_years(1000, 1.05, 3)"
   ]
  },
  {
   "cell_type": "code",
   "execution_count": 73,
   "metadata": {},
   "outputs": [
    {
     "name": "stdout",
     "output_type": "stream",
     "text": [
      "╔════════╗\n",
      "║ Gunnar ║\n",
      "╚════════╝\n",
      "\n",
      "╔══════════════╗\n",
      "║ Parametrisk! ║\n",
      "╚══════════════╝\n",
      "\n"
     ]
    }
   ],
   "source": [
    "#\n",
    "#    Besvarelse P1.5\n",
    "#\n",
    "#  Printer namnet mitt i ein boks\n",
    "\n",
    "def surround_str_with_box(string):\n",
    "    string.replace(\"\\n\", \"\")   # fjerner evt. linjeskift\n",
    "    \n",
    "    # bruker len() for å teikne botn- og toppstreken lang nok\n",
    "    top = \"╔\" + (len(string)+2)*\"═\" + \"╗\\n\"\n",
    "    mid = \"║ \"       + string +      \" ║\\n\"\n",
    "    bot = \"╚\" + (len(string)+2)*\"═\" + \"╝\\n\"\n",
    "    print(top + mid + bot)\n",
    "\n",
    "\n",
    "surround_str_with_box(\"Gunnar\")\n",
    "surround_str_with_box(\"Parametrisk!\")"
   ]
  },
  {
   "cell_type": "code",
   "execution_count": 36,
   "metadata": {},
   "outputs": [
    {
     "name": "stdout",
     "output_type": "stream",
     "text": [
      "Good morning.                  --> Morn\n",
      "It is a pleasure to meet you   --> Hyggelig\n",
      "Please call me tomorrow        --> Snakkes\n",
      "Have a nice day!               --> Ha en fin dag!\n"
     ]
    }
   ],
   "source": [
    "#\n",
    "#    Besvarelse P1.16\n",
    "#\n",
    "#  Printer liste i to kolonner\n",
    "\n",
    "greetings = [[\"Good morning.\", \"Morn\"],\n",
    "             [\"It is a pleasure to meet you\", \"Hyggelig\"],\n",
    "             [\"Please call me tomorrow\", \"Snakkes\"],\n",
    "             [\"Have a nice day!\", \"Ha en fin dag!\"]]\n",
    "\n",
    "for element in greetings:\n",
    "    print(element[0] + \" \"*(30 - len(element[0])) + \" --> \"+ element[1])\n"
   ]
  },
  {
   "cell_type": "code",
   "execution_count": 2,
   "metadata": {},
   "outputs": [
    {
     "name": "stdout",
     "output_type": "stream",
     "text": [
      "Input two numbers to receive information.\n",
      "Number 1: 25\n",
      "Number 2: 20\n",
      "Sum: 45\n",
      "Difference: -5\n",
      "Product: 500\n",
      "Average: 22.5\n",
      "Distance: 5\n",
      "Maximum: 25\n",
      "Minimum: 20\n"
     ]
    }
   ],
   "source": [
    "#\n",
    "#   Besvarelse P2.4\n",
    "#\n",
    "#  Aritmetiske operasjonar på brukerinput\n",
    "\n",
    "\n",
    "print(\"Input two numbers to receive information.\")\n",
    "n1 = int(input(\"Number 1: \"))\n",
    "n2 = int(input(\"Number 2: \"))\n",
    "    \n",
    "print(\"Sum: \"        + str(n1 + n2))\n",
    "print(\"Difference: \" + str(n2 - n1))\n",
    "print(\"Product: \"    + str(n1 * n2))\n",
    "print(\"Average: \"    + str((n1 + n2)/2))\n",
    "print(\"Distance: \"   + str(abs(n2 - n1)))\n",
    "print(\"Maximum: \"    + str(max(n1, n2)))\n",
    "print(\"Minimum: \"    + str(min(n1, n2)))    "
   ]
  },
  {
   "cell_type": "code",
   "execution_count": 8,
   "metadata": {},
   "outputs": [
    {
     "name": "stdout",
     "output_type": "stream",
     "text": [
      "Klokkeslett 1: 1730\n",
      "Klokkeslett 2: 0900\n",
      "15 timar 30 minutt\n"
     ]
    }
   ],
   "source": [
    "#\n",
    "#    Besvarelse P2.17\n",
    "#\n",
    "#  Ta inn to klokkeslett i militærtid, og print differanse i timar og minutter\n",
    "\n",
    "def military_time_difference(t1, t2):\n",
    "    m1 = int(t1[:2])*60 + int(t1[2:])  # omgjer frå militærtid til minutt\n",
    "    m2 = int(t2[:2])*60 + int(t2[2:])  # med strengmanipulasjon ttmm\n",
    "    \n",
    "    diff = m2 - m1\n",
    "    if diff < 0:      # legger til 24 timar dersom m1 > m2\n",
    "        diff += 24*60\n",
    "    \n",
    "    h = diff//60      # heiltalsdivisjon for å finne timar\n",
    "    m = diff - h*60   # fjerner timane frå differansen\n",
    "    \n",
    "    print(f\"{h} timar {m} minutt\")\n",
    "    \n",
    "    \n",
    "t1 = input(\"Klokkeslett 1: \")\n",
    "t2 = input(\"Klokkeslett 2: \")\n",
    "military_time_difference(t1, t2)\n"
   ]
  },
  {
   "cell_type": "code",
   "execution_count": 13,
   "metadata": {},
   "outputs": [
    {
     "name": "stdout",
     "output_type": "stream",
     "text": [
      "Velg eit nummer mellom ein og tolv: 3\n",
      "Månad 3 er marsj\n"
     ]
    }
   ],
   "source": [
    "#\n",
    "#    Besvarelse P2.19\n",
    "#\n",
    "#  Oppgåveteksten er vanskelig å forstå, men her er eit program som printer namnet på\n",
    "#  månadnummer \"m\"\n",
    "\n",
    "months = [\"januar\", \"februar\", \"marsj\", \"april\", \"mai\", \"juni\", \"juli\",\n",
    "          \"august\", \"september\", \"oktober\", \"november\", \"desember\"]\n",
    "\n",
    "m = int(input(\"Velg eit nummer mellom ein og tolv: \"))\n",
    "print(f\"Månad {str(m)} er {months[m - 1]}\")"
   ]
  },
  {
   "cell_type": "code",
   "execution_count": 19,
   "metadata": {},
   "outputs": [
    {
     "name": "stdout",
     "output_type": "stream",
     "text": [
      "Mis...ppi\n"
     ]
    }
   ],
   "source": [
    "#\n",
    "#    Besvarelse P2.22, \n",
    "#\n",
    "#  Strengmanipulasjon\n",
    "\n",
    "s = \"Mississippi\"\n",
    "print(s[:3] + \"...\" + s[-3:])"
   ]
  },
  {
   "cell_type": "code",
   "execution_count": 20,
   "metadata": {},
   "outputs": [
    {
     "name": "stdout",
     "output_type": "stream",
     "text": [
      "489.75\n"
     ]
    }
   ],
   "source": [
    "#\n",
    "#    Besvarelse P2.32, \n",
    "#\n",
    "#  Bokhandel: pris på bøker i ordre\n",
    "\n",
    "def book_order_price(book_amount, total_price, tax=7.5, shipping=2):\n",
    "    total_price_with_tax = total_price * (1 + (tax/100))\n",
    "    shipping_charge = book_amount * shipping\n",
    "    return total_price_with_tax + shipping_charge\n",
    "\n",
    "# eks:\n",
    "p = book_order_price(3, 450)\n",
    "print(p)"
   ]
  },
  {
   "cell_type": "code",
   "execution_count": 25,
   "metadata": {},
   "outputs": [
    {
     "name": "stdout",
     "output_type": "stream",
     "text": [
      "2 dollars 95 cents\n",
      "4 dollars 35 cents\n"
     ]
    }
   ],
   "source": [
    "#\n",
    "#    Besvarelse P2.34, \n",
    "#\n",
    "#  Convert price in float to dollars and cents\n",
    "\n",
    "def float_to_currency(f):\n",
    "    dollars = int(f)\n",
    "    cents = int(100*(f - dollars) + 0.5)\n",
    "    return dollars, cents\n",
    "\n",
    "dollars, cents = float_to_currency(2.95)\n",
    "print(f\"{dollars} dollars {cents} cents\")\n",
    "\n",
    "dollars, cents = float_to_currency(4.35)\n",
    "print(f\"{dollars} dollars {cents} cents\")"
   ]
  },
  {
   "cell_type": "code",
   "execution_count": 27,
   "metadata": {},
   "outputs": [
    {
     "name": "stdout",
     "output_type": "stream",
     "text": [
      "2.75\n"
     ]
    }
   ],
   "source": [
    "#\n",
    "#    Besvarelse P2.38 - \n",
    "#\n",
    "#  Reknar ut r_ekvivalent der r1 står i serie med (r2 || r3)\n",
    "\n",
    "def r_equivalent(r1, r2, r3):\n",
    "    r_a = (r2 * r3)/(r2 + r3)\n",
    "    return r_a + r1\n",
    "\n",
    "# eks.:\n",
    "print(r_equivalent(2, 3, 1))"
   ]
  },
  {
   "cell_type": "code",
   "execution_count": 32,
   "metadata": {},
   "outputs": [
    {
     "data": {
      "text/plain": [
       "11.381509927791333"
      ]
     },
     "execution_count": 32,
     "metadata": {},
     "output_type": "execute_result"
    }
   ],
   "source": [
    "#\n",
    "#    Besvarelse P2.39\n",
    "#\n",
    "#  dew_point_temperature() tar inn temperatur og relativ luftfuktigheit og\n",
    "#  rekner ut duggpunkttemperaturen\n",
    "\n",
    "from math import log\n",
    "\n",
    "#Konstantar\n",
    "A = 17.27\n",
    "B = 237.7\n",
    "\n",
    "\n",
    "def f(t, rh):\n",
    "    # kan ikkje nok termodynamikk til a namngjeve denne funksjonen\n",
    "    return ((A*t) / (B+t)) + log(rh)\n",
    "    \n",
    "\n",
    "def dew_point_temperature(t, rh):\n",
    "    return (B * f(t, rh)) / (A - f(t, rh))   \n",
    "\n",
    "#eks.:\n",
    "dew_point_temperature(12, 0.96)"
   ]
  },
  {
   "cell_type": "code",
   "execution_count": 39,
   "metadata": {},
   "outputs": [
    {
     "name": "stdout",
     "output_type": "stream",
     "text": [
      "Thermistor resistance: 1349\n",
      "Current liquid temperature is: 77.96\n"
     ]
    }
   ],
   "source": [
    "#\n",
    "#    Besvarelse P2.40\n",
    "#\n",
    "#  Rekner temperatur i røyr på grunnlag av motstanden over ein termistor\n",
    "\n",
    "from math import log\n",
    "\n",
    "\n",
    "ZERO_OFFS = 273.15\n",
    "THERMISTOR_RESISTANCE = 1075    #  Ω\n",
    "THERMISTOR_REF_TEMP = 85        # °C\n",
    "BETA = 3969                     # °K\n",
    "\n",
    "\n",
    "def liquid_temp_from_resistance(r):\n",
    "    t = THERMISTOR_REF_TEMP + ZERO_OFFS\n",
    "    denominator = t * (log(r/THERMISTOR_RESISTANCE)) + BETA\n",
    "    liquid_temp = (BETA * t) / denominator\n",
    "    return liquid_temp - 273\n",
    "\n",
    "\n",
    "r = int(input(\"Thermistor resistance: \"))\n",
    "t = liquid_temp_from_resistance(r)\n",
    "print(\"Current liquid temperature is: \" + str(round(t, 2)))\n",
    "    "
   ]
  },
  {
   "cell_type": "code",
   "execution_count": 44,
   "metadata": {},
   "outputs": [
    {
     "name": "stdout",
     "output_type": "stream",
     "text": [
      "Enter power factor (pf): 42\n",
      "pf = 42 gives Vs = 157.48V\n"
     ]
    }
   ],
   "source": [
    "#\n",
    "#    Besvarelse P2.41\n",
    "#\n",
    "#  Rekner ut kildespenninga frå kraftstasjonen Vs ut ifrå\n",
    "#  kraftfaktoren pf\n",
    "\n",
    "from math import sqrt\n",
    "\n",
    "\n",
    "R = 10     # Ω   --> motstand i kraftlinje\n",
    "VT = 120   # V   --> spenning over nettet\n",
    "P = 260    # Watt--> effekt forbrukt i husstanden\n",
    "\n",
    "\n",
    "def source_voltage_from_power_factor(pf):\n",
    "    # deler kalkulasjonen opp i to ledd\n",
    "    l1 = (VT + ((2*R*P) / VT)) ** 2\n",
    "    l2_a = ((2*R*P) / (pf*VT)) ** 2\n",
    "    l2_b = 1 - pf**2\n",
    "    \n",
    "    return sqrt(l1 + l2_a*l2_b)\n",
    "\n",
    "\n",
    "pf = int(input(\"Enter power factor (pf): \"))\n",
    "vs = source_voltage_from_power_factor(pf)\n",
    "print(f\"pf = {pf} gives Vs = {round(vs, 2)}V\")"
   ]
  },
  {
   "cell_type": "code",
   "execution_count": 114,
   "metadata": {},
   "outputs": [
    {
     "name": "stdout",
     "output_type": "stream",
     "text": [
      "Required inductance and frequency range:\n",
      "Inductance: 1.98 mH\n",
      "Freq_min:   7.39 MHz\n",
      "Freq_max:   37.74 MHz\n"
     ]
    }
   ],
   "source": [
    "#\n",
    "#    Besvarelse P2.42\n",
    "#\n",
    "#  Rekner ut den påkrevde induktansen L og frekvensområdet ut ifrå\n",
    "#  frekvens og kapasitansområde\n",
    "\n",
    "from math import sqrt, pi\n",
    "\n",
    "\n",
    "def required_inductance(freq, c_min, c_max):\n",
    "    c = sqrt(c_min * c_max)\n",
    "    #l = ((2*pi) / (freq*sqrt(c))) ** 2     # fant denne vha. algebra\n",
    "    l = 4 * ((pi**2)/((freq**2) * c))\n",
    "    f_min = (2*pi) / sqrt(l * c_max)\n",
    "    f_max = (2*pi) / sqrt(l * c_min)\n",
    "    return l, f_min, f_max\n",
    "\n",
    "\n",
    "#eks.:   (her er omgjering på standardform hardkoda. Det burte skrivast parametrisk\n",
    "#         i forhold til den relevante implementasjonen)\n",
    "freq = 16.7e+6   # gonger ned frå MHz til Hz\n",
    "c_min = 14e-12   # gonger opp frå pF til F\n",
    "c_max = 365e-12  # gonger opp frå pF til F\n",
    "l, f_min, f_max = required_inductance(freq, c_min, c_max)\n",
    "\n",
    "l = str(round(l*10**3, 2))\n",
    "f_min = str(round(f_min * 10**-6, 2))\n",
    "f_max = str(round(f_max*10**-6, 2))\n",
    "\n",
    "print(\"Required inductance and frequency range:\")\n",
    "print(\"Inductance: \" + l +     \" mH\")\n",
    "print(\"Freq_min:   \" + f_min + \" MHz\")\n",
    "print(\"Freq_max:   \" + f_max + \" MHz\")"
   ]
  },
  {
   "cell_type": "code",
   "execution_count": 1,
   "metadata": {},
   "outputs": [
    {
     "name": "stdout",
     "output_type": "stream",
     "text": [
      "Provide charges of two particles and the distance between them\n",
      "Charge 1 (coulombs): soiehfsoiehf\n",
      "Invalid input, try again.\n",
      "Charge 1 (coulombs): 2\n",
      "Charge 2 (coulombs): 4.132\n",
      "Distance (meters): sdoifsfd\n",
      "Invalit input, distance must be a non-negative number\n",
      "Distance (meters): -132\n",
      "Invalit input, distance must be a non-negative number\n",
      "Distance (meters): 0.0000003\n",
      "Force exterted on the particle pair is 8.252744834170514e+23 Newtons.\n"
     ]
    }
   ],
   "source": [
    "#\n",
    "#    Besvarelse P2.43\n",
    "#\n",
    "#  Rekner ut krafta som utøvast på to partiklar ut ifrå\n",
    "#  ladninga til dei to partiklane og avstanden mellom dei.\n",
    "#\n",
    "#  Programmet er implementert med input-validation for å\n",
    "#  ungå kræsj ved ugyldig input.\n",
    "\n",
    "from math import pi\n",
    "\n",
    "\n",
    "EPSILON = 8.854e-12\n",
    "\n",
    "\n",
    "def force_exerted_on_particle_pair(q1, q2, r):\n",
    "    f = (q1 * q2) / (4 * pi * EPSILON * (r**2))\n",
    "    return f\n",
    "\n",
    "\n",
    "def get_input(prompt=\"\", cast=None, condition=None, error_message=None):\n",
    "    while True:\n",
    "        try:\n",
    "            response = (cast or str)(input(prompt))\n",
    "            assert condition is None or condition(response)\n",
    "            return response\n",
    "        except:\n",
    "            print(error_message or \"Invalid input, try again.\")\n",
    "        \n",
    "        \n",
    "def main():\n",
    "    print(\"Provide charges of two particles and the distance between them\")\n",
    "    q1 = get_input(prompt=\"Charge 1 (coulombs): \", cast=float)\n",
    "    q2 = get_input(prompt=\"Charge 2 (coulombs): \", cast=float)\n",
    "    r  = get_input(prompt=\"Distance (meters): \",\n",
    "                   cast=float,\n",
    "                   condition=lambda x: x >= 0,\n",
    "                   error_message=\"Invalit input, distance must be a non-negative number\")\n",
    "    \n",
    "    f = round(force_exerted_on_particle_pair(q1, q2, r), 2)\n",
    "    print(\"Force exterted on the particle pair is \" + str(f) + \" Newtons.\")\n",
    "\n",
    "    \n",
    "if __name__ == \"__main__\":\n",
    "    main()"
   ]
  }
 ],
 "metadata": {
  "kernelspec": {
   "display_name": "Python 3 (ipykernel)",
   "language": "python",
   "name": "python3"
  },
  "language_info": {
   "codemirror_mode": {
    "name": "ipython",
    "version": 3
   },
   "file_extension": ".py",
   "mimetype": "text/x-python",
   "name": "python",
   "nbconvert_exporter": "python",
   "pygments_lexer": "ipython3",
   "version": "3.9.6"
  }
 },
 "nbformat": 4,
 "nbformat_minor": 4
}
