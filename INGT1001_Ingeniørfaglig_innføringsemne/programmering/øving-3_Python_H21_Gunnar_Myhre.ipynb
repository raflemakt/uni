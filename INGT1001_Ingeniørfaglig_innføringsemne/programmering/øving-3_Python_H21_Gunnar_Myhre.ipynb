{
 "cells": [
  {
   "cell_type": "markdown",
   "metadata": {
    "tags": []
   },
   "source": [
    "# Øving 3  -   INGT1001 Elektro: Python-modulen #\n",
    "> ### Frist: søndag 10/10, kl. 23.59\n",
    "> ### Levering: på vår underside (https://ntnu.blackboard.com/webapps/blackboard/execute/modulepage/view?course_id=_32669_1&cmp_tab_id=_252410_1&editMode=true&mode=cpview#) på Blackboard under folderen Arbeidskrav\n",
    "> __Godkjenningskrav:__  _P4.37, P4.39-40 og P5.35 må være gjort + minst 50% av de øvrige deloppgavene_"
   ]
  },
  {
   "cell_type": "markdown",
   "metadata": {},
   "source": [
    "### Fra Chapter 4 og 5, Python for Everyone ###\n",
    "> __Programming Execises: P4: 1-5, 16-17, 19-20, 37, 39-40  +  P5: 2-3, 5, 7, 9, 35__<br>\n",
    "\n",
    "_Nedenfor ser du besvarelsen på P1.1 fra Øving 1 som et eksempel på hvordan de skal se ut.\n",
    "Dvs. opprett en kodecelle, kommenter på toppen hvilken deloppgave det dreier seg om, og så kommer kodelinjene. Sørg for å legg inn greit med kommentarer i koden også._\n"
   ]
  },
  {
   "cell_type": "code",
   "execution_count": 78,
   "metadata": {},
   "outputs": [
    {
     "name": "stdout",
     "output_type": "stream",
     "text": [
      "2550\n",
      "385\n",
      "1 2 4 8 16 32 64 128 256 512 1024 2048 4096 8192 16384 32768 65536 131072 262144 524288\n",
      "35\n",
      "17\n"
     ]
    }
   ],
   "source": [
    "#\n",
    "#    Besvarelse P4.1\n",
    "#\n",
    "#  Matematiske operasjonar med løkker\n",
    "\n",
    "def sum_of_even_integers(limit):\n",
    "    s = 0\n",
    "    for i in range(0,limit + 1, 2):\n",
    "        s += i\n",
    "    return s\n",
    "\n",
    "\n",
    "def sum_of_squares(limit):\n",
    "    s = 0\n",
    "    for i in range(100):\n",
    "        sq = i*i\n",
    "        if sq <= limit:\n",
    "            s += sq\n",
    "        else:\n",
    "            break\n",
    "    return s\n",
    "\n",
    "\n",
    "def range_powers(start, limit, radix):\n",
    "    for i in range(start, limit):\n",
    "        yield radix**i\n",
    "        \n",
    "\n",
    "def sum_of_odd_numbers(start, limit):\n",
    "    s = 0\n",
    "    for i in range(start, limit+1):\n",
    "        if i % 2 != 0:\n",
    "            s += i\n",
    "    return s\n",
    "\n",
    "\n",
    "def sum_of_odd_digits(integer):\n",
    "    str_num = str(integer)\n",
    "    s = 0\n",
    "    for digit in str_num:\n",
    "        if int(digit) % 2 != 0:\n",
    "            s += int(digit)\n",
    "    return s\n",
    "            \n",
    "\n",
    "print(sum_of_even_integers(100))\n",
    "print(sum_of_squares(100))\n",
    "print(*range_powers(0, 20, 2))\n",
    "print(sum_of_odd_numbers(2,11))\n",
    "print(sum_of_odd_digits(31337))"
   ]
  },
  {
   "cell_type": "code",
   "execution_count": 36,
   "metadata": {},
   "outputs": [
    {
     "name": "stdout",
     "output_type": "stream",
     "text": [
      "Input 7 integers.\n",
      " Integer 0: 1\n",
      " Integer 1: 2\n",
      " Integer 2: 2\n",
      " Integer 3: 1\n",
      " Integer 4: 4\n",
      " Integer 5: 5\n",
      " Integer 6: 5\n",
      "Largest: 5\n",
      "Smallest: 1\n",
      "Even numbers: 3\n",
      "Odd numbers: 4\n",
      "Cumulative sums: [1, 3, 5, 6, 10, 15, 20]\n",
      "Adjacent duplicates: [2, 5]\n"
     ]
    }
   ],
   "source": [
    "#\n",
    "#    Besvarelse P4.2\n",
    "#\n",
    "#  Heiltalsinput og diverse matematiske operasjonar\n",
    "\n",
    "from functools import reduce\n",
    "\n",
    "\n",
    "def get_input(prompt=\"\", cast=None, condition=None, error_message=None):\n",
    "    while True:\n",
    "        try:\n",
    "            response = (cast or str)(input(prompt))\n",
    "            assert condition is None or condition(response)\n",
    "            return response\n",
    "        except:\n",
    "            print(error_message or \"Invalid input, try again.\")\n",
    "            \n",
    "            \n",
    "def get_input_integers(amount):\n",
    "    print(f\"Input {str(amount)} integers.\")\n",
    "    ints = []\n",
    "    for i in range(amount):\n",
    "        inp = get_input(prompt=f\" Integer {str(i)}: \",\n",
    "                        cast=int,\n",
    "                        condition=lambda s: len(str(s)) == 1)\n",
    "        ints.append(inp)\n",
    "    return ints\n",
    "\n",
    "\n",
    "# Hang meg litt opp i funksjonell programmering i python her ...\n",
    "integers = get_input_integers(7)\n",
    "print(f\"Largest: {max(integers)}\")\n",
    "print(f\"Smallest: {min(integers)}\")\n",
    "print(f\"Even numbers: {sum((i%2==0) for i in integers)}\")\n",
    "print(f\"Odd numbers: {sum((i%2!=0) for i in integers)}\")\n",
    "print(f\"Cumulative sums: {reduce(lambda a, x: a + [a[-1]+x] if a else [x], integers, [])}\")\n",
    "print(f\"Adjacent duplicates: {[e for i,e in enumerate(integers) if e == integers[i-1]]}\")\n",
    "\n",
    "\n",
    "#print(f\"Even numbers: {len(list(filter(lambda x: (x%2==0), integers)))}\")\n",
    "#print(f\"Even numbers: {sum(1 for i in integers if i%2==0)}\")"
   ]
  },
  {
   "cell_type": "code",
   "execution_count": 67,
   "metadata": {},
   "outputs": [
    {
     "name": "stdout",
     "output_type": "stream",
     "text": [
      "Input a string: adaiwudbaiIAWUDBIAUwdbauIWDUB\n",
      "Uppercase letters: IAWUDBIAUIWDUB\n",
      "Every second letter: aawdaIWDIUdaIDB\n",
      "Vowels as underscore: _d__w_db____W_DB___wdb___WD_B\n",
      "Position of vowels: [10, 11, 12, 13, 14, 15, 16, 17, 18, 24, 25, 26, 27, 28]\n"
     ]
    }
   ],
   "source": [
    "#\n",
    "#    Besvarelse P4.3\n",
    "#\n",
    "#  Printer info om streng\n",
    "#  (fokuserte på å implementere med list-comprehension)\n",
    "\n",
    "VOWELS = [\"a\",\"e\",\"i\",\"o\",\"u\",\"y\",\"æ\",\"ø\",\"å\"]\n",
    "\n",
    "inp = input(\"Input a string: \")\n",
    "    \n",
    "print(f\"Uppercase letters: {''.join([x for x in inp if x==x.upper()])}\")\n",
    "print(f\"Every second letter: {''.join([x for i,x in enumerate(inp) if i%2==0])}\")\n",
    "print(f\"Vowels as underscore: {''.join(['_' if x.lower() in VOWELS else x for x in inp])}\")\n",
    "print(f\"Position of vowels: {[i for i, x in enumerate(inp) if x.upper() == x]}\")"
   ]
  },
  {
   "cell_type": "code",
   "execution_count": 11,
   "metadata": {},
   "outputs": [
    {
     "name": "stdout",
     "output_type": "stream",
     "text": [
      "Skriv temperaturar for dei tolv månadane [C]\n",
      "Temp. i Januar: 18.2\n",
      "Temp. i Februar: 22.6\n",
      "Temp. i Mars: 26.4\n",
      "Temp. i April: 31.1\n",
      "Temp. i Mai: 36.6\n",
      "Temp. i Juni: 42.2\n",
      "Temp. i Juli: 45.7\n",
      "Temp. i August: 44.5\n",
      "Temp. i September: 40.2\n",
      "Temp. i Oktober: 33.1\n",
      "Temp. i November: 24.2\n",
      "Temp. i Desember: 17.6\n",
      "Den varmaste månaden var Juli\n"
     ]
    }
   ],
   "source": [
    "#\n",
    "#    Besvarelse P4.4\n",
    "#\n",
    "#  Finner høgaste temperatur\n",
    "\n",
    "MONTHS = [\"Januar\", \"Februar\", \"Mars\", \"April\", \"Mai\", \"Juni\",\n",
    "          \"Juli\", \"August\", \"September\", \"Oktober\", \"November\", \"Desember\"]\n",
    "\n",
    "\n",
    "def get_input(prompt=\"\", cast=None, condition=None, error_message=None):\n",
    "    while True:\n",
    "        try:\n",
    "            response = (cast or str)(input(prompt))\n",
    "            assert condition is None or condition(response)\n",
    "            return response\n",
    "        except:\n",
    "            print(error_message or \"Ugyldig input, prøv igjen.\")\n",
    "\n",
    "\n",
    "def get_month_temperatures():\n",
    "    print(f\"Skriv temperaturar for dei tolv månadane [C]\")\n",
    "    temps = []\n",
    "    for i in range(12):\n",
    "        inp = get_input(prompt=f\"Temp. i {str(MONTHS[i])}: \", cast=float)\n",
    "        temps.append(inp)\n",
    "    return temps\n",
    "\n",
    "\n",
    "def main():\n",
    "    temps = get_month_temperatures()\n",
    "    print(f\"Den varmaste månaden var {MONTHS[temps.index(max(temps))]}\")\n",
    "    \n",
    "    \n",
    "if __name__ == \"__main__\":\n",
    "    main()"
   ]
  },
  {
   "cell_type": "code",
   "execution_count": 191,
   "metadata": {},
   "outputs": [
    {
     "name": "stdout",
     "output_type": "stream",
     "text": [
      "Input 5 numbers.\n",
      " Number 1: 53.1\n",
      " Number 2: 14.9\n",
      " Number 3: 093.5\n",
      " Number 4: 41.6\n",
      " Number 5: 49.0\n",
      "Average is: 50.42\n",
      "Smallest value is: 14.9\n",
      "Largest value is: 93.5\n",
      "Range is: 78.6\n"
     ]
    }
   ],
   "source": [
    "#\n",
    "#    Besvarelse P4.5\n",
    "#\n",
    "#  Printer informasjon om flyttal.\n",
    "\n",
    "def get_input(prompt=\"\", cast=None, condition=None, error_message=None):\n",
    "    while True:\n",
    "        try:\n",
    "            response = (cast or str)(input(prompt))\n",
    "            assert condition is None or condition(response)\n",
    "            return response\n",
    "        except:\n",
    "            print(error_message or \"Invalid input, try again.\")\n",
    "            \n",
    "            \n",
    "def get_input_floats(amount):\n",
    "    print(f\"Input {str(amount)} numbers.\")\n",
    "    floats = []\n",
    "    for i in range(amount):\n",
    "        inp = get_input(prompt=f\" Number {str(i+1)}: \", cast=float)\n",
    "        floats.append(inp)\n",
    "    return floats\n",
    "\n",
    "\n",
    "floats = get_input_floats(5)\n",
    "\n",
    "print(f\"Average is: {round(sum(floats)/len(floats), 2)}\")\n",
    "print(f\"Smallest value is: {min(floats)}\")\n",
    "print(f\"Largest value is: {max(floats)}\")\n",
    "print(f\"Range is: {round(max(floats) - min(floats), 2)}\")"
   ]
  },
  {
   "cell_type": "code",
   "execution_count": 23,
   "metadata": {},
   "outputs": [
    {
     "name": "stdout",
     "output_type": "stream",
     "text": [
      "Skriv eit heiltal: 150\n",
      "[2, 3, 5, 5]\n"
     ]
    }
   ],
   "source": [
    "#\n",
    "#    Besvarelse P4.16\n",
    "#\n",
    "#  Tar inn heiltal og faktoriserer\n",
    "\n",
    "def prime_factors(n):\n",
    "    for i in range(2, n//2):\n",
    "        while n % i == 0:\n",
    "            n = n // i\n",
    "            yield i\n",
    "\n",
    "\n",
    "number = int(input(\"Skriv eit heiltal: \"))\n",
    "factors = list(prime_factors(150))\n",
    "print(factors)"
   ]
  },
  {
   "cell_type": "code",
   "execution_count": 1,
   "metadata": {},
   "outputs": [
    {
     "name": "stdout",
     "output_type": "stream",
     "text": [
      "Skriv eit heiltal: 1337\n",
      "Primtala under 1337 er: [2, 3, 5, 7, 11, 13, 17, 19, 23, 29, 31, 37, 41, 43, 47, 53, 59, 61, 67, 71, 73, 79, 83, 89, 97, 101, 103, 107, 109, 113, 127, 131, 137, 139, 149, 151, 157, 163, 167, 173, 179, 181, 191, 193, 197, 199, 211, 223, 227, 229, 233, 239, 241, 251, 257, 263, 269, 271, 277, 281, 283, 293, 307, 311, 313, 317, 331, 337, 347, 349, 353, 359, 367, 373, 379, 383, 389, 397, 401, 409, 419, 421, 431, 433, 439, 443, 449, 457, 461, 463, 467, 479, 487, 491, 499, 503, 509, 521, 523, 541, 547, 557, 563, 569, 571, 577, 587, 593, 599, 601, 607, 613, 617, 619, 631, 641, 643, 647, 653, 659, 661, 673, 677, 683, 691, 701, 709, 719, 727, 733, 739, 743, 751, 757, 761, 769, 773, 787, 797, 809, 811, 821, 823, 827, 829, 839, 853, 857, 859, 863, 877, 881, 883, 887, 907, 911, 919, 929, 937, 941, 947, 953, 967, 971, 977, 983, 991, 997, 1009, 1013, 1019, 1021, 1031, 1033, 1039, 1049, 1051, 1061, 1063, 1069, 1087, 1091, 1093, 1097, 1103, 1109, 1117, 1123, 1129, 1151, 1153, 1163, 1171, 1181, 1187, 1193, 1201, 1213, 1217, 1223, 1229, 1231, 1237, 1249, 1259, 1277, 1279, 1283, 1289, 1291, 1297, 1301, 1303, 1307, 1319, 1321, 1327]\n"
     ]
    }
   ],
   "source": [
    "#\n",
    "#    Besvarelse P4.17\n",
    "#\n",
    "#  Tar inn heiltal \"n\" og printer primtal opp til \"n\".\n",
    "#  tau(n) (som kjent frå OEIS A000005) returnerer antal divisorar\n",
    "#    -- dersom tau(n) == 2 er n eit primtal\n",
    "\n",
    "def tau(n):\n",
    "    return len([x for x in range(1,(n+1)) if n%x==0])\n",
    "\n",
    "\n",
    "inp = int(input(\"Skriv eit heiltal: \"))\n",
    "print(f\"Primtala under {inp} er: {[n for n in range(1,inp) if tau(n)==2]}\")"
   ]
  },
  {
   "cell_type": "code",
   "execution_count": 1,
   "metadata": {},
   "outputs": [
    {
     "name": "stdout",
     "output_type": "stream",
     "text": [
      "Average grade calculation.\n",
      "Input grades, write [done] when all grades are inserted.\n",
      " grade 1: 5.5\n",
      " grade 2: 4.2\n",
      " grade 3: 3.6\n",
      " grade 4: 5.8\n",
      " grade 5: awodijawodijawodijawodijawd\n",
      "Invalid input, try again.\n",
      " grade 5: 3.5\n",
      " grade 6: done\n",
      "Average of grades: 4.52\n",
      "Get grades for more students? [y/n]: y\n",
      "\n",
      "\n",
      "Input grades, write [done] when all grades are inserted.\n",
      " grade 1: 3.4\n",
      " grade 2: 2.3\n",
      " grade 3: done\n",
      "Average of grades: 2.85\n",
      "Get grades for more students? [y/n]: n\n"
     ]
    }
   ],
   "source": [
    "#\n",
    "#    Besvarelse P4.19\n",
    "#\n",
    "#  \"Modify the examaverages.py program from Worked Example 4.1 so it will also\n",
    "#   compute the overall average exam grade\"\n",
    "#\n",
    "#    og Besvarelse P4.20\n",
    "#\n",
    "#  \"Modify the examaverages.py program from Worked Example 4.1 to have it validate\n",
    "#   the input when the user is prompted as to whether they want to enter \n",
    "#   grades for another student\"\n",
    "       \n",
    "def get_input(prompt=\"\", cast=None, condition=None, error_msg=None, break_cond=None):\n",
    "    while True:\n",
    "        try:\n",
    "            response = input(prompt)\n",
    "            if break_cond and (response.lower() == break_cond.lower()):\n",
    "                return False\n",
    "            response = (cast or str)(response)\n",
    "            assert condition is None or condition(response)\n",
    "            return response\n",
    "        except:\n",
    "            print(error_msg or \"Invalid input, try again.\")\n",
    "\n",
    "            \n",
    "def get_grades_input(break_cond):\n",
    "    i, grades = 1, []\n",
    "    print(f\"Input grades, write [{break_cond}] when all grades are inserted.\")\n",
    "    while True:\n",
    "        inp = get_input(prompt=f\" grade {i}: \",\n",
    "                        cast=float,\n",
    "                        break_cond=break_cond)\n",
    "        i += 1\n",
    "        if inp == False:\n",
    "            return grades\n",
    "        grades.append(inp)\n",
    "    return grades\n",
    "\n",
    "    \n",
    "def main():\n",
    "    print(\"Average grade calculation.\")\n",
    "    while True:\n",
    "        grades = get_grades_input(break_cond=\"done\")\n",
    "        average = sum(grades)/len(grades)\n",
    "        print(f\"Average of grades: {round(average, 3)}\")\n",
    "        \n",
    "        cont = get_input(prompt=\"Get grades for more students? [y/n]: \",\n",
    "                         cast=str,\n",
    "                         condition=lambda s: s.lower() in [\"y\", \"n\"],\n",
    "                         error_msg='Please write \"y\" or \"n\"')\n",
    "        \n",
    "        if cont.lower() == \"n\":\n",
    "            break\n",
    "        print(\"\\n\")\n",
    "            \n",
    "        \n",
    "if __name__ == \"__main__\":\n",
    "    main()"
   ]
  },
  {
   "cell_type": "code",
   "execution_count": 113,
   "metadata": {},
   "outputs": [
    {
     "name": "stdout",
     "output_type": "stream",
     "text": [
      "Seconds         Numerical         Calculated\n",
      "0                 1.0               0.0\n",
      "1                 96.05             95.09\n",
      "2                 181.28            180.38\n",
      "3                 256.71            255.85\n",
      "4                 322.32            321.52\n",
      "5                 378.13            377.38\n",
      "6                 424.13            423.42\n",
      "7                 460.31            459.65\n",
      "8                 486.69            486.08\n",
      "9                 503.25            502.69\n",
      "10                510.01            509.5\n",
      "11                506.96            506.5\n",
      "12                494.09            493.68\n",
      "13                471.42            471.05\n",
      "14                438.93            438.62\n",
      "15                396.64            396.38\n",
      "16                344.54            344.32\n",
      "17                282.62            282.45\n",
      "18                210.9             210.78\n",
      "19                129.36            129.29\n",
      "20                38.02             38.0\n",
      "Reached ground after 20.39 seconds\n"
     ]
    },
    {
     "data": {
      "image/png": "[encoded data removed]",
      "text/plain": [
       "<Figure size 432x288 with 1 Axes>"
      ]
     },
     "metadata": {
      "needs_background": "light"
     },
     "output_type": "display_data"
    }
   ],
   "source": [
    "#\n",
    "#    Besvarelse P4.37\n",
    "#\n",
    "#  Rekner ut banen til kanonkule\n",
    "\n",
    "import matplotlib.pyplot as plt\n",
    "\n",
    "\n",
    "GRAVITY_CONSTANT = 9.81\n",
    "DELTA_T = 0.01\n",
    "\n",
    "\n",
    "def update_cannonball_pos_numerical(pos, v):\n",
    "    pos = pos + v * DELTA_T\n",
    "    v = v - GRAVITY_CONSTANT * DELTA_T\n",
    "    return pos, v\n",
    "\n",
    "    \n",
    "def cannonball_pos_calculus(t, v_0):\n",
    "    return -0.5 * GRAVITY_CONSTANT * t**2 + v_0*t\n",
    "\n",
    "\n",
    "def main():\n",
    "    pos = 0\n",
    "    v_0 = 100\n",
    "    positions = []\n",
    "\n",
    "    v = v_0\n",
    "    pad = 9\n",
    "    print(\"Seconds\" + pad*\" \" + \"Numerical\" + pad*\" \" + \"Calculated\")\n",
    "    for t in range(10_000):\n",
    "        pos, v = update_cannonball_pos_numerical(pos, v)\n",
    "        if pos <= 0:\n",
    "            print(f\"Reached ground after {t*DELTA_T} seconds\")\n",
    "            break\n",
    "        positions.append((pos,t))\n",
    "\n",
    "        if t % 100 == 0:\n",
    "            num_pos =  str(round(pos, 2))\n",
    "            calc_pos = str(round(cannonball_pos_calculus(t/100, v_0), 2))\n",
    "            time =     str(int(t/100))\n",
    "            print(time + \" \"*(2*pad-len(time)) +\n",
    "                  num_pos + \" \"*(2*pad-len(num_pos)) +  calc_pos)\n",
    "\n",
    "    plt.plot([t for pos, t in positions], [pos for pos, t in positions])\n",
    "    plt.title(\"Cannonball trajectory\")\n",
    "    plt.ylabel(\"height\"), plt.xlabel(\"time\")\n",
    "    plt.show()\n",
    "\n",
    "\n",
    "if __name__ == \"__main__\":\n",
    "    main()"
   ]
  },
  {
   "cell_type": "code",
   "execution_count": 151,
   "metadata": {
    "scrolled": true
   },
   "outputs": [
    {
     "name": "stdout",
     "output_type": "stream",
     "text": [
      "after 0 hours, 100% remains\n",
      "after 1 hours, 89% remains\n",
      "after 2 hours, 79% remains\n",
      "after 3 hours, 71% remains\n",
      "after 4 hours, 63% remains\n",
      "after 5 hours, 56% remains\n",
      "after 6 hours, 50% remains\n",
      "after 7 hours, 45% remains\n",
      "after 8 hours, 40% remains\n",
      "after 9 hours, 35% remains\n",
      "after 10 hours, 31% remains\n",
      "after 11 hours, 28% remains\n",
      "after 12 hours, 25% remains\n",
      "after 13 hours, 22% remains\n",
      "after 14 hours, 20% remains\n",
      "after 15 hours, 18% remains\n",
      "after 16 hours, 16% remains\n",
      "after 17 hours, 14% remains\n",
      "after 18 hours, 13% remains\n",
      "after 19 hours, 11% remains\n",
      "after 20 hours, 10% remains\n",
      "after 21 hours, 9% remains\n",
      "after 22 hours, 8% remains\n",
      "after 23 hours, 7% remains\n"
     ]
    },
    {
     "data": {
      "image/png": "[encoded data removed]",
      "text/plain": [
       "<Figure size 432x288 with 1 Axes>"
      ]
     },
     "metadata": {
      "needs_background": "light"
     },
     "output_type": "display_data"
    }
   ],
   "source": [
    "#\n",
    "#    Besvarelse P4.39\n",
    "#\n",
    "#  Halvveringstid\n",
    "\n",
    "from math import exp, log\n",
    "import matplotlib.pyplot as plt\n",
    "\n",
    "\n",
    "def radioactive_decay(mat_amount, t, half_life):\n",
    "    return mat_amount * exp(-t*log(2)/half_life)\n",
    "\n",
    "\n",
    "decay_data = []\n",
    "A = 10\n",
    "technetium_hl = 6\n",
    "\n",
    "for hour in range(24):\n",
    "    ratio = radioactive_decay(A, hour, technetium_hl) / A\n",
    "    print(\"after \" + str(hour) + \" hours, \" + str(round(ratio*100)) + \"% remains\")\n",
    "    decay_data.append(ratio)\n",
    "\n",
    "\n",
    "plt.plot(decay_data)\n",
    "plt.title(\"Radioactive decay of technetium-99\")\n",
    "plt.ylabel(\"relative amount\"), plt.xlabel(\"time, hours\")\n",
    "plt.show()"
   ]
  },
  {
   "cell_type": "code",
   "execution_count": 189,
   "metadata": {},
   "outputs": [
    {
     "name": "stdout",
     "output_type": "stream",
     "text": [
      "Turns ratio 0.63 gives the highest delivered power of 20.0\n"
     ]
    }
   ],
   "source": [
    "#\n",
    "#    Besvarelse P4.40\n",
    "#\n",
    "#  Modellerer ein transformator\n",
    "\n",
    "R_0 = 20\n",
    "R_S = 8\n",
    "V_S = 40\n",
    "\n",
    "\n",
    "def power_delivered_from_turns_ratio(n):\n",
    "    nomin = n * V_S\n",
    "    denom = (n**2 * R_0) + R_S\n",
    "    return R_S * (nomin/denom)**2\n",
    "\n",
    "\n",
    "ratios = []\n",
    "for i in range(1, 201):\n",
    "    n = i/100\n",
    "    ratios.append((power_delivered_from_turns_ratio(n), n))\n",
    "highest_power = max(ratios)\n",
    "\n",
    "print(f\"Turns ratio {round(highest_power[1], 2)} gives the highest\\\n",
    " delivered power of {round(highest_power[0], 2)}\")"
   ]
  },
  {
   "cell_type": "code",
   "execution_count": 195,
   "metadata": {},
   "outputs": [
    {
     "name": "stdout",
     "output_type": "stream",
     "text": [
      "False\n",
      "True\n",
      "True\n",
      "False\n",
      "True\n",
      "False\n"
     ]
    }
   ],
   "source": [
    "#\n",
    "#    Besvarelse P5.2\n",
    "#\n",
    "#  diverse funksjonar med boolske returverdiar\n",
    "\n",
    "def all_the_same(x, y, z):\n",
    "    return x == y == z\n",
    "\n",
    "\n",
    "def all_different(x, y, z):\n",
    "    return x != y != z\n",
    "\n",
    "\n",
    "#her foreslår boka å kalle funksjonen \"sorted\", det er ein dårleg\n",
    "#idé sidan det allereie er ein standardfunksjon i python\n",
    "def are_sorted(x, y, z):\n",
    "    return sorted([x, y, z]) == [x, y, z]\n",
    "    \n",
    "\n",
    "print(all_the_same(1,3,2))\n",
    "print(all_the_same(3,3,3))\n",
    "\n",
    "print(all_different(1,3,2))\n",
    "print(all_different(3,3,3))\n",
    "\n",
    "print(are_sorted(1,2,3))\n",
    "print(are_sorted(3,7,3))"
   ]
  },
  {
   "cell_type": "code",
   "execution_count": 197,
   "metadata": {},
   "outputs": [
    {
     "name": "stdout",
     "output_type": "stream",
     "text": [
      "1\n",
      "6\n",
      "6\n"
     ]
    }
   ],
   "source": [
    "#\n",
    "#    Besvarelse P5.3\n",
    "#\n",
    "#  strengmanipulasjon\n",
    "\n",
    "def first_digit(n):\n",
    "    return int(str(n)[0])\n",
    "\n",
    "def last_digit(n):\n",
    "    return int(str(n)[-1])\n",
    "\n",
    "def digits(n):\n",
    "    return int(len(str(n)))\n",
    "\n",
    "print(first_digit(123456))\n",
    "print(last_digit(123456))\n",
    "print(digits(123456))"
   ]
  },
  {
   "cell_type": "code",
   "execution_count": 198,
   "metadata": {},
   "outputs": [
    {
     "data": {
      "text/plain": [
       "'ho ho ho '"
      ]
     },
     "execution_count": 198,
     "metadata": {},
     "output_type": "execute_result"
    }
   ],
   "source": [
    "#\n",
    "#    Besvarelse P5.5\n",
    "#\n",
    "\n",
    "def repeat(string, n, delim):\n",
    "    return (string + delim) * n\n",
    "\n",
    "repeat(\"ho\", 3, \" \")"
   ]
  },
  {
   "cell_type": "code",
   "execution_count": 200,
   "metadata": {},
   "outputs": [
    {
     "data": {
      "text/plain": [
       "5"
      ]
     },
     "execution_count": 200,
     "metadata": {},
     "output_type": "execute_result"
    }
   ],
   "source": [
    "#\n",
    "#    Besvarelse P5.7\n",
    "#\n",
    "\n",
    "def count_words(string):\n",
    "    return len(string.split(\" \"))\n",
    "\n",
    "count_words(\"Mary had a little lamb\")"
   ]
  },
  {
   "cell_type": "code",
   "execution_count": 2,
   "metadata": {},
   "outputs": [
    {
     "name": "stdout",
     "output_type": "stream",
     "text": [
      "Radius: 43\n",
      "Height: 32\n",
      "Sphere volume:    333038.14\n",
      "Sphere surface:   23235.22\n",
      "Cylinder volume:  185881.75\n",
      "Cylinder surface: 20263.27\n",
      "Cone volume:      61960.58\n",
      "Cone surface:     13049.6\n"
     ]
    }
   ],
   "source": [
    "#\n",
    "#    Besvarelse P5.9\n",
    "#\n",
    "#  Diverse geometriske kalkulasjonar\n",
    "\n",
    "from math import pi, sqrt\n",
    "\n",
    "\n",
    "def sphere_volume(r):\n",
    "    return (4/3) * pi * r**3\n",
    "\n",
    "def sphere_surface(r):\n",
    "    return 4 * pi * r**2\n",
    "\n",
    "def cylinder_volume(r, h):\n",
    "    return (pi * r**2) * h\n",
    "\n",
    "def cylinder_surface(r, h):\n",
    "    return (pi * 2 * r) * h + (2 * pi * r**2)\n",
    "\n",
    "def cone_volume(r, h):\n",
    "    return (1/3) * (pi * r**2) * h\n",
    "\n",
    "def cone_surface(r, h):\n",
    "    return pi * r * (r + sqrt(h**2 + r**2))\n",
    "\n",
    "\n",
    "def main():\n",
    "    r = float(input(\"Radius: \"))\n",
    "    h = float(input(\"Height: \"))\n",
    "    \n",
    "    print(f\"Sphere volume:    {round(sphere_volume(r), 2)}\")\n",
    "    print(f\"Sphere surface:   {round(sphere_surface(r), 2)}\")\n",
    "    print(f\"Cylinder volume:  {round(cylinder_volume(r, h), 2)}\")\n",
    "    print(f\"Cylinder surface: {round(cylinder_surface(r, h), 2)}\")\n",
    "    print(f\"Cone volume:      {round(cone_volume(r, h), 2)}\")\n",
    "    print(f\"Cone surface:     {round(cone_surface(r, h), 2)}\")\n",
    "    \n",
    "\n",
    "if __name__ == \"__main__\":\n",
    "    main()"
   ]
  },
  {
   "cell_type": "code",
   "execution_count": 18,
   "metadata": {},
   "outputs": [
    {
     "name": "stdout",
     "output_type": "stream",
     "text": [
      "0.396 Ω\n",
      "0.665 Ω\n"
     ]
    }
   ],
   "source": [
    "#\n",
    "#    Besvarelse P5.35\n",
    "#\n",
    "#  Rekner ut motstand i kabel ut ifrå AWG (wire gauge) og lengde [m]\n",
    "\n",
    "from math import pi\n",
    "\n",
    "COPPER_RESISTIVITY = 1.678e-8\n",
    "ALUMINUM_RESISTIVITY = 2.82e-8\n",
    "\n",
    "\n",
    "def diameter(wire_gauge):\n",
    "    return (0.127 * 92 **((36 - wire_gauge)/39))/1000\n",
    "\n",
    "def copper_wire_resistance(length, wire_gauge):\n",
    "    return (4 * COPPER_RESISTIVITY * length) / (pi * diameter(wire_gauge)**2)\n",
    "\n",
    "def aluminum_wire_resistance(length, wire_gauge):\n",
    "    return (4 * ALUMINUM_RESISTIVITY * length) / (pi * diameter(wire_gauge)**2)\n",
    "\n",
    "\n",
    "print(f\"{round(copper_wire_resistance(1000, 1), 3)} Ω\")\n",
    "print(f\"{round(aluminum_wire_resistance(1000, 1), 3)} Ω\")"
   ]
  }
 ],
 "metadata": {
  "kernelspec": {
   "display_name": "Python 3 (ipykernel)",
   "language": "python",
   "name": "python3"
  },
  "language_info": {
   "codemirror_mode": {
    "name": "ipython",
    "version": 3
   },
   "file_extension": ".py",
   "mimetype": "text/x-python",
   "name": "python",
   "nbconvert_exporter": "python",
   "pygments_lexer": "ipython3",
   "version": "3.9.6"
  }
 },
 "nbformat": 4,
 "nbformat_minor": 4
}
