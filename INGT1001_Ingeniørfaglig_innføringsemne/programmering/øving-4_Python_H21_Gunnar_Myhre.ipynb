{
 "cells": [
  {
   "cell_type": "markdown",
   "metadata": {
    "tags": []
   },
   "source": [
    "# Øving 4  -   INGT1001 Elektro: Python-modulen #\n",
    "> ### Frist: søndag 24/10, kl. 23.59\n",
    "> ### Levering: på vår underside (https://ntnu.blackboard.com/webapps/blackboard/execute/modulepage/view?course_id=_32669_1&cmp_tab_id=_252410_1&editMode=true&mode=cpview#) på Blackboard under folderen Arbeidskrav\n",
    "> __Godkjenningskrav:__  _P6.4 og 29-31 P8.5, 9 og 22 må være gjort + minst 50% av de øvrige deloppgavene_"
   ]
  },
  {
   "cell_type": "markdown",
   "metadata": {},
   "source": [
    "### Fra Chapter 6 og 8, Python for Everyone ###\n",
    "> __Programming Execises: P6: 4, 6-9, 13, 15-16, 27, 29-31  +  P8: 5, 9, 22__<br>\n",
    "\n",
    "_Nedenfor ser du besvarelsen på P1.1 fra Øving 1 som et eksempel på hvordan de skal se ut.\n",
    "Dvs. opprett en kodecelle, kommenter på toppen hvilken deloppgave det dreier seg om, og så kommer kodelinjene. Sørg for å legg inn greit med kommentarer i koden også._\n"
   ]
  },
  {
   "cell_type": "code",
   "execution_count": 56,
   "metadata": {},
   "outputs": [
    {
     "name": "stdout",
     "output_type": "stream",
     "text": [
      "[4, 6, 8, 9, 9, 8, 0, 6, 9, 0] (10 randomly generated integers.)\n",
      "[0, 6, 8, 9, 9, 8, 0, 6, 9, 4] (Swap first and last element.)\n",
      "[0, 4, 6, 8, 9, 9, 8, 0, 6, 9] (Shift elements to the right, wrap around on overflow.)\n",
      "[0, 0, 0, 9, 9, 0, 0, 0, 9, 0] (Change even numbers to 0.)\n",
      "[4, 8, 9, 9, 9, 9, 8, 9, 9, 0] (Make new list with max of neighbours in old list.)\n",
      "[4, 6, 8, 9, 0, 6, 9, 0] (Removes middle element if odd, two middle elements if even.)\n",
      "[4, 6, 8, 8, 0, 6, 0, 9, 9, 9] (Moves even numbers to the front of the list.)\n",
      "9 is the second largest number.\n",
      "False (Checks if the list is increasing.)\n",
      "True (Checks if the list has adjacent duplicates.)\n",
      "True (Checks if the list has duplicates.)\n"
     ]
    }
   ],
   "source": [
    "#\n",
    "#    Besvarelse P6.4\n",
    "#\n",
    "#  Ulike listeoperasjonar\n",
    "\n",
    "from random import randint, choice\n",
    "\n",
    "\n",
    "def swap_first_last(l_org):\n",
    "    l = l_org.copy()\n",
    "    first, last = l[0], l[-1]\n",
    "    l[0], l[-1] = last, first\n",
    "    return l\n",
    "\n",
    "def scroll_right(l_org):\n",
    "    l = l_org.copy()\n",
    "    last = l.pop()\n",
    "    l.insert(0, last)\n",
    "    return l\n",
    "\n",
    "def even_to_zeros(l_org):\n",
    "    return [0 if (x%2 == 0) else x for x in l_org]\n",
    "\n",
    "def max_of_neighbours(l_org):\n",
    "    l = l_org.copy()\n",
    "    new_list = [l[0]]\n",
    "    for i in range(1, len(l)-1):\n",
    "        new_list.append(max(l[i-1], l[i], l[i+1]))\n",
    "    new_list.append(l[-1])\n",
    "    return new_list\n",
    "\n",
    "def remove_mid_entry(l_org):\n",
    "    l = l_org.copy()\n",
    "    length = len(l_org)\n",
    "    if length % 2 == 0:\n",
    "        return [x for i, x in enumerate(l) if i not in [length//2, length//2 - 1] ]\n",
    "    if length % 2 != 0:\n",
    "        return [x for i, x in enumerate(l) if i != length//2]\n",
    "        \n",
    "def even_nums_to_front(l_org):\n",
    "    even = [x for x in l_org if (x%2 == 0)]\n",
    "    odd  = [x for x in l_org if (x%2 != 0)]\n",
    "    even.extend(odd)\n",
    "    return even\n",
    "\n",
    "def second_largest(l_org):\n",
    "    l = l_org.copy()\n",
    "    return sorted(l)[-2]\n",
    "\n",
    "def is_increasing(l_org):\n",
    "    l = l_org.copy()\n",
    "    if sorted(l) == l_org:\n",
    "        return True\n",
    "    return False\n",
    "    \n",
    "def has_adjacent_duplicate(l_org):\n",
    "    for n in range(1, len(l_org)):\n",
    "        if l_org[n] == l_org[n-1]:\n",
    "            return True\n",
    "    return False\n",
    "    \n",
    "\n",
    "ints = [randint(0,9) for i in range(choice([10, 11]))]\n",
    "print(f\"{ints} ({len(ints)} randomly generated integers.)\")\n",
    "\n",
    "print(f\"{swap_first_last(ints)} (Swap first and last element.)\")\n",
    "print(f\"{scroll_right(ints)} (Shift elements to the right, wrap around on overflow.)\")\n",
    "print(f\"{even_to_zeros(ints)} (Change even numbers to 0.)\")\n",
    "print(f\"{max_of_neighbours(ints)} (Make new list with max of neighbours in old list.)\")\n",
    "print(f\"{remove_mid_entry(ints)} (Removes middle element if odd, two middle elements if even.)\")\n",
    "print(f\"{even_nums_to_front(ints)} (Moves even numbers to the front of the list.)\")\n",
    "print(f\"{second_largest(ints)} is the second largest number.\")\n",
    "print(f\"{is_increasing(ints)} (Checks if the list is increasing.)\")\n",
    "print(f\"{has_adjacent_duplicate(ints)} (Checks if the list has adjacent duplicates.)\")\n",
    "print(f\"{has_adjacent_duplicate(sorted(ints))} (Checks if the list has duplicates.)\")"
   ]
  },
  {
   "cell_type": "code",
   "execution_count": 57,
   "metadata": {},
   "outputs": [
    {
     "data": {
      "text/plain": [
       "5"
      ]
     },
     "execution_count": 57,
     "metadata": {},
     "output_type": "execute_result"
    }
   ],
   "source": [
    "#\n",
    "#    Besvarelse P6.6\n",
    "#\n",
    "#  Finner sum av liste, minus det lågaste talet\n",
    "\n",
    "def sum_without_smallest(numbers):\n",
    "    return sum(numbers) - sorted(numbers)[0]\n",
    "\n",
    "sum_without_smallest([1,2,3])"
   ]
  },
  {
   "cell_type": "code",
   "execution_count": 1,
   "metadata": {},
   "outputs": [
    {
     "data": {
      "text/plain": [
       "[2, 3, 4, 5]"
      ]
     },
     "execution_count": 1,
     "metadata": {},
     "output_type": "execute_result"
    }
   ],
   "source": [
    "#\n",
    "#    Besvarelse P6.7\n",
    "#\n",
    "#  Fjerner det lågaste talet i ei liste\n",
    "\n",
    "def remove_min(numbers):\n",
    "    lowest = min(numbers)\n",
    "    numbers.remove(lowest)\n",
    "    return numbers\n",
    "    \n",
    "\n",
    "remove_min([1,2,3,4,5])"
   ]
  },
  {
   "cell_type": "code",
   "execution_count": 61,
   "metadata": {},
   "outputs": [
    {
     "data": {
      "text/plain": [
       "-2"
      ]
     },
     "execution_count": 61,
     "metadata": {},
     "output_type": "execute_result"
    }
   ],
   "source": [
    "#\n",
    "#    Besvarelse P6.8\n",
    "#\n",
    "#  Finner alternerande sum (1 - 2 + 3 - 4 + 5)\n",
    "\n",
    "def alternating_sum(numbers):\n",
    "    return sum([x if (i%2 == 0) else -x for i, x in enumerate(numbers)])\n",
    "\n",
    "alternating_sum([1,4,9,16,9,7,4,9,11])"
   ]
  },
  {
   "cell_type": "code",
   "execution_count": 147,
   "metadata": {},
   "outputs": [
    {
     "data": {
      "text/plain": [
       "[11, 9, 4, 7, 16, 9, 4, 1]"
      ]
     },
     "execution_count": 147,
     "metadata": {},
     "output_type": "execute_result"
    }
   ],
   "source": [
    "#\n",
    "#    Besvarelse P6.9\n",
    "#\n",
    "#  Reverserer liste\n",
    "\n",
    "[1,4,9,16,7,4,9,11][::-1]"
   ]
  },
  {
   "cell_type": "code",
   "execution_count": 82,
   "metadata": {},
   "outputs": [
    {
     "name": "stdout",
     "output_type": "stream",
     "text": [
      "True\n",
      "False\n"
     ]
    }
   ],
   "source": [
    "#\n",
    "#    Besvarelse P6.13\n",
    "#\n",
    "#  Sjekker om to lister er like, bare forskyvde.\n",
    "\n",
    "def scroll_right(l_org):\n",
    "    l = l_org.copy()\n",
    "    last = l.pop()\n",
    "    l.insert(0, last)\n",
    "    return l\n",
    "\n",
    "def is_shifted_eqv(list1, list2):\n",
    "    for i in range(len(list1)):\n",
    "        list1 = scroll_right(list1)\n",
    "        if list1 == list2:\n",
    "            return True\n",
    "    return False\n",
    "\n",
    "l1 = [1,4,9,16,9,7,4,9,11]\n",
    "l2 = [11,1,4,9,16,9,7,4,9]\n",
    "l3 = [11,11,7,9,16,4,1,4,9]\n",
    "\n",
    "print(is_shifted_eqv(l1, l2))\n",
    "print(is_shifted_eqv(l1, l3))"
   ]
  },
  {
   "cell_type": "code",
   "execution_count": 169,
   "metadata": {},
   "outputs": [
    {
     "name": "stdout",
     "output_type": "stream",
     "text": [
      "4 5 6 4 3 4 5 4 5 3 3 5 4 4 4 2 2 5 5 6\n",
      "4 5 6 4 3 4 5 4 5 (3 3) 5 (4 4 4) (2 2) (5 5) 6\n"
     ]
    }
   ],
   "source": [
    "#\n",
    "#    Besvarelse P6.15\n",
    "#\n",
    "#  Markerer alle seriar som er lengre enn to tal\n",
    "\n",
    "from random import randint\n",
    "\n",
    "nums = [randint(1,6) for i in range(20)]\n",
    "print(\" \".join([str(n) for n in nums]))\n",
    "\n",
    "\n",
    "def pairwise(iterable):\n",
    "    for (index, element) in enumerate(iterable[:-1]): \n",
    "        current_item, next_item = element, iterable[index + 1]\n",
    "        yield (current_item, next_item )\n",
    "\n",
    "        \n",
    "def runs(nums):\n",
    "    s, in_run = \"\", False\n",
    "    for i, pair in enumerate(pairwise(nums)):\n",
    "        if pair[0] == pair[1] and not in_run:\n",
    "            s += \"(\" + str(nums[i]) + \" \"\n",
    "            in_run = True\n",
    "        elif pair[0] != pair[1] and in_run:\n",
    "            s += str(nums[i]) + \") \"\n",
    "            in_run = False\n",
    "        else:\n",
    "            s += str(nums[i]) + \" \"\n",
    "    s += str(nums[-1])\n",
    "    if in_run:\n",
    "        s += \") \"\n",
    "        \n",
    "    return(s)\n",
    "    \n",
    "    \n",
    "print(runs(nums))"
   ]
  },
  {
   "cell_type": "code",
   "execution_count": 68,
   "metadata": {},
   "outputs": [
    {
     "name": "stdout",
     "output_type": "stream",
     "text": [
      "[1, 5, 6, 6, 3, 3, 4, 4, 4, 1, 6, 6, 3, 6, 2, 2, 5, 3, 3, 6]\n",
      "156633(444)16636225336\n"
     ]
    }
   ],
   "source": [
    "#\n",
    "#    Besvarelse P6.16\n",
    "#\n",
    "#  Markerer lengste samanhengande serie av det same talet.\n",
    "\n",
    "from random import randint\n",
    "\n",
    "nums = [randint(1,6) for i in range(20)]\n",
    "print(nums)\n",
    "\n",
    "\n",
    "def longest_run(tosses):\n",
    "    \"\"\"Return longest run (last_element_in_run, run_len)\"\"\"\n",
    "    runs = []\n",
    "    run_len = 0\n",
    "    for n in range(6):\n",
    "        for pos, toss in enumerate(tosses):\n",
    "            if toss == n:\n",
    "                run_len += 1\n",
    "            else:\n",
    "                runs.append([run_len, pos])  # Run length and position\n",
    "                run_len = 0\n",
    "\n",
    "    length, end_pos = max(runs)\n",
    "    numstr = \"\".join([str(n) for n in tosses])\n",
    "    endparen = numstr[:end_pos] + \")\" + numstr[end_pos:]\n",
    "    startparen = endparen[:end_pos - length] + \"(\" + endparen[end_pos - length:]\n",
    "    print(startparen)\n",
    "\n",
    "    \n",
    "longest_run(nums)"
   ]
  },
  {
   "cell_type": "code",
   "execution_count": 1,
   "metadata": {},
   "outputs": [
    {
     "name": "stdout",
     "output_type": "stream",
     "text": [
      "10 10 10 10 10 10 10 10 10 10\n",
      "10 10 10 10 10 10 10 10 10 10\n",
      "10 10 10 10 10 10 10 10 10 10\n",
      "10 20 20 20 20 20 20 20 20 10\n",
      "20 20 20 20 20 20 20 20 20 10\n",
      "20 20 30 30 30 30 30 30 20 20\n",
      "20 30 30 30 30 30 30 30 30 20\n",
      "20 30 40 40 40 40 40 40 30 20\n",
      "30 30 40 40 40 40 40 40 30 30\n",
      "30 40 40 50 50 50 50 40 40 30\n",
      "\n",
      "##### Seat booking menu #####\n",
      "   [1] order by price (from 10 kr)\n",
      "   [2] order seat directly\n",
      "Please choose ordering method [1/2]: 2\n",
      "Specify row [1-10]: 3\n",
      "Specify seat number [1-10]: 6\n",
      "Seat on row 3, seat 6 succesfully booked.\n",
      "\n",
      "10 10 10 10 10 10 10 10 10 10\n",
      "10 10 10 10 10 10 10 10 10 10\n",
      "10 10 10 10 10 \u001b[31m00\u001b[39m 10 10 10 10\n",
      "10 20 20 20 20 20 20 20 20 10\n",
      "20 20 20 20 20 20 20 20 20 10\n",
      "20 20 30 30 30 30 30 30 20 20\n",
      "20 30 30 30 30 30 30 30 30 20\n",
      "20 30 40 40 40 40 40 40 30 20\n",
      "30 30 40 40 40 40 40 40 30 30\n",
      "30 40 40 50 50 50 50 40 40 30\n",
      "\n",
      "Order more tickets? [y/n]: y\n",
      "##### Seat booking menu #####\n",
      "   [1] order by price (from 10 kr)\n",
      "   [2] order seat directly\n",
      "Please choose ordering method [1/2]: 1\n",
      "Specify price: 46\n",
      "Found seat for 40 kr\n",
      "Seat on row 8, seat 3 succesfully booked.\n",
      "\n",
      "10 10 10 10 10 10 10 10 10 10\n",
      "10 10 10 10 10 10 10 10 10 10\n",
      "10 10 10 10 10 \u001b[31m00\u001b[39m 10 10 10 10\n",
      "10 20 20 20 20 20 20 20 20 10\n",
      "20 20 20 20 20 20 20 20 20 10\n",
      "20 20 30 30 30 30 30 30 20 20\n",
      "20 30 30 30 30 30 30 30 30 20\n",
      "20 30 \u001b[31m00\u001b[39m 40 40 40 40 40 30 20\n",
      "30 30 40 40 40 40 40 40 30 30\n",
      "30 40 40 50 50 50 50 40 40 30\n",
      "\n",
      "Order more tickets? [y/n]: n\n",
      "Thank you for ordering. Quitting\n"
     ]
    }
   ],
   "source": [
    "#\n",
    "#    Besvarelse P6.27\n",
    "#\n",
    "#  Billettbestilling for kinosal\n",
    "\n",
    "from colorama import Fore\n",
    "\n",
    "\n",
    "# Theatre size\n",
    "ROWS = 10\n",
    "COLS = 10\n",
    "\n",
    "\n",
    "def init_seats(cols, rows):\n",
    "    seats = []\n",
    "    \n",
    "    def price_gradient(x, row):\n",
    "        # TODO: regressjonen er ikkje skalerbar for andre verdiar ROWS, COLS\n",
    "        regression = -0.988 * x**2 + 8.889*x + 30\n",
    "        out = (regression * (row + 1)) // 10\n",
    "        if out < 10:\n",
    "            return 10\n",
    "        return int(round(out, -1))\n",
    "    \n",
    "    for row in range(rows):\n",
    "        seats.append([str(price_gradient(x, row)) for x in range(cols)])\n",
    "    return seats\n",
    "\n",
    "\n",
    "# Initialize\n",
    "SEATS = init_seats(COLS, ROWS)\n",
    "\n",
    "\n",
    "def print_seats():\n",
    "    for row in SEATS:\n",
    "        for i, seat in enumerate(row):\n",
    "            if seat == \"00\":\n",
    "                row[i] = Fore.RED + \"00\" + Fore.RESET\n",
    "        line = \" \".join(str(x) for x in row)\n",
    "        print(line)\n",
    "    print()\n",
    "\n",
    "\n",
    "def find_seat_from_price(price):\n",
    "    for seat_row, row in enumerate(SEATS):\n",
    "        for seat_col, col in enumerate(row):\n",
    "            if col == price:\n",
    "                return (seat_col, seat_row)\n",
    "    return None\n",
    "\n",
    "\n",
    "def register_seat_booking(row, col):\n",
    "    if col > COLS or row > ROWS:\n",
    "        return \"404 - seat not found.\"\n",
    "    if SEATS[row][col] == \"00\":\n",
    "        return \"Seat is unavailable, please choose another seat.\"\n",
    "    else:\n",
    "        SEATS[row][col] = \"00\"\n",
    "        return f\"Seat on row {row+1}, seat {col+1} succesfully booked.\"\n",
    "\n",
    "\n",
    "def order_by_price():\n",
    "    inp_price = int(input(\"Specify price: \"))\n",
    "    rounded_price = (inp_price // 10) * 10\n",
    "    seat = find_seat_from_price(str(rounded_price))\n",
    "    if seat == None:\n",
    "        print(\"No seats available.\")\n",
    "    else:\n",
    "        col, row = (int(n) for n in seat)\n",
    "        print(f\"Found seat for {rounded_price} kr\")\n",
    "        print(register_seat_booking(row, col))\n",
    "\n",
    "\n",
    "def order_seat():\n",
    "    row = int(input(f\"Specify row [1-{ROWS}]: \"))\n",
    "    col = int(input(f\"Specify seat number [1-{COLS}]: \"))\n",
    "    print(register_seat_booking(row - 1, col - 1))        \n",
    "    \n",
    "\n",
    "def main():\n",
    "    print_seats()\n",
    "    running = True\n",
    "    \n",
    "    while running:\n",
    "        print(\"##### Seat booking menu #####\")\n",
    "        print(\"   [1] order by price (from 10 kr)\")\n",
    "        print(\"   [2] order seat directly\")\n",
    "\n",
    "        user_choice = input(\"Please choose ordering method [1/2]: \")\n",
    "        if str(user_choice) == \"1\":\n",
    "            order_by_price()\n",
    "        if str(user_choice) == \"2\":\n",
    "            order_seat()\n",
    "        print()\n",
    "        print_seats()\n",
    "        \n",
    "        cont = input(\"Order more tickets? [y/n]: \")\n",
    "        if str(cont).lower() == \"y\":\n",
    "            continue\n",
    "        else:\n",
    "            running = False\n",
    "             \n",
    "    print(\"Thank you for ordering. Quitting\")\n",
    "    quit()\n",
    "\n",
    "    \n",
    "if __name__ == \"__main__\":\n",
    "    main()"
   ]
  },
  {
   "cell_type": "code",
   "execution_count": 4,
   "metadata": {},
   "outputs": [
    {
     "name": "stdout",
     "output_type": "stream",
     "text": [
      "[1, 4, 9, 16, 9, 7, 4, 9, 11]\n"
     ]
    }
   ],
   "source": [
    "#\n",
    "#    Besvarelse P6.29\n",
    "#\n",
    "#  Samanføyer to lister\n",
    "\n",
    "def append_list(a, b):\n",
    "    l = a.copy()\n",
    "    l.extend(b)\n",
    "    return l\n",
    "\n",
    "a = [1,4,9,16]\n",
    "b = [9,7,4,9,11]\n",
    "print(append_list(a, b))"
   ]
  },
  {
   "cell_type": "code",
   "execution_count": 9,
   "metadata": {},
   "outputs": [
    {
     "name": "stdout",
     "output_type": "stream",
     "text": [
      "[1, 9, 4, 7, 9, 4, 16, 9, 11]\n",
      "Test passed.\n"
     ]
    }
   ],
   "source": [
    "#\n",
    "#    Besvarelse P6.30\n",
    "#\n",
    "#  Samanføyer to lister med annankvar verdi frå dei to listene\n",
    "\n",
    "def merge(a, b):\n",
    "    l = []\n",
    "    len_a = len(a)\n",
    "    len_b = len(b)\n",
    "    min_len = min(len_a, len_b)\n",
    "    \n",
    "    for i in range(max(len_a, len_b)):\n",
    "        if i < min_len:\n",
    "            l.append(a[i])\n",
    "            l.append(b[i])\n",
    "        elif len_a == min_len:\n",
    "            l.append(b[i])\n",
    "        elif len_b == min_len:\n",
    "            l.append(a[i])\n",
    "    return l\n",
    "\n",
    "\n",
    "a = [1,4,9,16]\n",
    "b = [9,7,4,9,11]\n",
    "test = merge(a, b)\n",
    "print(test)\n",
    "\n",
    "if test == [1,9,4,7,9,4,16,9,11]:\n",
    "    print(\"Test passed.\")"
   ]
  },
  {
   "cell_type": "code",
   "execution_count": 24,
   "metadata": {},
   "outputs": [
    {
     "data": {
      "text/plain": [
       "[1, 4, 4, 7, 9, 9, 9, 11, 16]"
      ]
     },
     "execution_count": 24,
     "metadata": {},
     "output_type": "execute_result"
    }
   ],
   "source": [
    "#\n",
    "#    Besvarelse P6.31\n",
    "#\n",
    "#  Samanføyer to lister og sorterer i stigande rekkefølgje\n",
    "\n",
    "def merge_sorted(a, b):\n",
    "    l = a.copy()\n",
    "    l.extend(b)\n",
    "    l.sort()\n",
    "    return l\n",
    "\n",
    "\n",
    "a = [1,4,9,16]\n",
    "b = [4,7,9,9,11]\n",
    "merge_sorted(a, b)"
   ]
  },
  {
   "cell_type": "code",
   "execution_count": 1,
   "metadata": {},
   "outputs": [
    {
     "name": "stdout",
     "output_type": "stream",
     "text": [
      "Welcome to the student database. Available actions are:\n",
      "    add student   - [a]\n",
      " remove student   - [r]\n",
      "   edit grade     - [e]\n",
      " delete database  - [d]\n",
      "Please choose an action: a\n",
      "#### ADD STUDENT\n",
      "    Enter student name: awdkjhawd\n",
      "    Enter student grade: 1298d1j98\n",
      "Student successfully added: awdkjhawd 1298d1j98.\n",
      "No action chosen, defaulting to DELETE DATABASE\n",
      "Database successfully deleted. Quitting.\n"
     ]
    }
   ],
   "source": [
    "#\n",
    "#    Besvarelse P8.5\n",
    "#\n",
    "#  Databasesystem for (student: karakter)\n",
    "\n",
    "student_grades = {\n",
    "    \"Carl\":     \"B+\",\n",
    "    \"Joe\":      \"C\",\n",
    "    \"Sarah\":    \"A\",\n",
    "    \"Francine\": \"A\"\n",
    "}\n",
    "\n",
    "\n",
    "def get_input(prompt=\"\", cast=None, condition=None, error_msg=None):\n",
    "    while True:\n",
    "        try:\n",
    "            response = (cast or str)(input(prompt))\n",
    "            assert condition is None or condition(response)\n",
    "            return response\n",
    "        except:\n",
    "            print(error_msg or \"Invalid input, try again.\")\n",
    "\n",
    "            \n",
    "def print_dict(dictionary):\n",
    "    for element in dictionary:\n",
    "        print(element.ljust(10) + \": \" + dictionary[element])\n",
    "\n",
    "\n",
    "def main():\n",
    "    print(\"Welcome to the student database. Available actions are:\")\n",
    "    print(\"    add student   - [a]\")\n",
    "    print(\" remove student   - [r]\")\n",
    "    print(\"   edit grade     - [e]\")\n",
    "    print(\" delete database  - [d]\")\n",
    "    \n",
    "    choice = get_input(prompt=\"Please choose an action: \", cast=str)\n",
    "    if choice.lower() == \"a\":\n",
    "        print(\"#### ADD STUDENT\")\n",
    "        name  = get_input(prompt=\"    Enter student name: \", cast=str)\n",
    "        grade = get_input(prompt=\"    Enter student grade: \", cast=str)\n",
    "        student_grades[name] = grade\n",
    "        print(f\"Student successfully added: {name} {grade}.\")\n",
    "        \n",
    "    if choice.lower() == \"r\":\n",
    "        print(\"#### REMOVE STUDENT\")\n",
    "        name  = get_input(prompt=\"    Enter student name: \", cast=str)\n",
    "        student_grades.pop(name)\n",
    "    \n",
    "    if choice.lower() == \"e\":\n",
    "        print(\"#### EDIT GRADE\")\n",
    "        name  = get_input(prompt=\"    Enter student name: \", cast=str)\n",
    "        grade = get_input(prompt=\"    Enter student grade: \", cast=str)\n",
    "        student_grades[name] = grade\n",
    "        print(f\"Grade successfully modified: {name} {grade}.\")\n",
    "        \n",
    "    else:\n",
    "        print(\"No action chosen, defaulting to DELETE DATABASE\")\n",
    "        student_grades.clear()\n",
    "        print(\"Database successfully deleted. Quitting.\")\n",
    "        quit()\n",
    "    \n",
    "    \n",
    "if __name__ == \"__main__\":\n",
    "    main()"
   ]
  },
  {
   "cell_type": "code",
   "execution_count": 6,
   "metadata": {},
   "outputs": [
    {
     "name": "stdout",
     "output_type": "stream",
     "text": [
      "String 1: abcdef\n",
      "String 2: defghjikl\n",
      "['d', 'e', 'f']\n",
      "['b', 'c', 'a']\n",
      "['m', 'n', 'o', 'p', 'q', 'r', 's', 't', 'u', 'v', 'w', 'x', 'y', 'z']\n"
     ]
    }
   ],
   "source": [
    "#\n",
    "#    Besvarelse P8.9\n",
    "#\n",
    "#  Ulike funksjonar for å samanlikne to strengar\n",
    "\n",
    "def member(a, b):\n",
    "    return [x for x in set(a) if x in set(b)]\n",
    "\n",
    "def exclusive(a, b):\n",
    "    return [x for x in set(a) if x not in set(b)]\n",
    "\n",
    "def unused_letters(a, b):\n",
    "    letters = [chr(x) for x in range(97, 123)]\n",
    "    return [x for x in letters if x not in set(a+b)]\n",
    "\n",
    "\n",
    "s1 = input(\"String 1: \")\n",
    "s2 = input(\"String 2: \")\n",
    "\n",
    "print(member(s1, s2))\n",
    "print(exclusive(s1, s2))\n",
    "print(unused_letters(s1, s2))"
   ]
  },
  {
   "cell_type": "code",
   "execution_count": 88,
   "metadata": {},
   "outputs": [
    {
     "name": "stdout",
     "output_type": "stream",
     "text": [
      "[0, 0, 0, 0, 0, 4, 0, 0, 0, 2, 9]\n",
      "[0, 0, 3, 0, 0, 10, 2, 0, 0, 0, 3]\n",
      "[0, 0, 3, 0, 0, 14, 2, 0, 0, 2, 12]\n",
      "{5: 4, 9: 2, 10: 9}\n",
      "{2: 3, 5: 10, 6: 2, 10: 3}\n",
      "{5: 14, 9: 2, 10: 12, 2: 3, 6: 2}\n"
     ]
    }
   ],
   "source": [
    "#\n",
    "#    Besvarelse P8.22\n",
    "#\n",
    "#  Kompakt lagring av lister med mange \"0\"\n",
    "\n",
    "def list_to_sparse_array(l):\n",
    "    d = {}\n",
    "    for i, val in enumerate(l):\n",
    "        if val != 0:\n",
    "            d[i] = val\n",
    "    return d\n",
    "\n",
    "\n",
    "def old_sparse_array_to_list(d):\n",
    "    l = []\n",
    "    for key, val in enumerate(d):\n",
    "        for n in range(val):\n",
    "            l.append(0)\n",
    "        l.append(d[val])\n",
    "    return l\n",
    "\n",
    "\n",
    "def sparse_array_to_list(d):\n",
    "    l = [val if val != 0 else 0 for key, val in enumerate(d)]\n",
    "    l = [0 if x not in d else d[x] for x in range(max(d) + 1)]\n",
    "    return l\n",
    "    \n",
    "\n",
    "def sparse_array_sum(d1, d2):\n",
    "    d = {}\n",
    "    for key in d1:\n",
    "        if key in d2:\n",
    "            d[key] = d1[key] + d2[key]\n",
    "        else:\n",
    "            pass\n",
    "    return (d1 | d2) | d\n",
    "                \n",
    "\n",
    "# Example running:\n",
    "l1 = [0,0,0,0,0,4,0,0,0,2,9]\n",
    "d1 = list_to_sparse_array(l1)\n",
    "\n",
    "l2 = [0,0,3,0,0,10,2,0,0,0,3]\n",
    "d2 = list_to_sparse_array(l2)\n",
    "\n",
    "sumdict = sparse_array_sum(d1, d2)\n",
    "sumlist = sparse_array_to_list(sumdict)\n",
    "\n",
    "print(l1)\n",
    "print(l2)\n",
    "print(sumlist)\n",
    "\n",
    "print(d1)\n",
    "print(d2)\n",
    "print(sumdict)"
   ]
  }
 ],
 "metadata": {
  "kernelspec": {
   "display_name": "Python 3 (ipykernel)",
   "language": "python",
   "name": "python3"
  },
  "language_info": {
   "codemirror_mode": {
    "name": "ipython",
    "version": 3
   },
   "file_extension": ".py",
   "mimetype": "text/x-python",
   "name": "python",
   "nbconvert_exporter": "python",
   "pygments_lexer": "ipython3",
   "version": "3.9.6"
  }
 },
 "nbformat": 4,
 "nbformat_minor": 4
}
